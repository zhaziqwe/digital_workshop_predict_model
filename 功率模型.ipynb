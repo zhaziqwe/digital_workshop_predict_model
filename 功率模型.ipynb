{
 "cells": [
  {
   "attachments": {},
   "cell_type": "markdown",
   "metadata": {},
   "source": [
    "### 功率模型\n"
   ]
  },
  {
   "cell_type": "code",
   "execution_count": 140,
   "metadata": {},
   "outputs": [],
   "source": [
    "\n",
    "#导入基础库\n",
    "import numpy as np\n",
    "import pandas as pd\n",
    "import torch\n",
    "from matplotlib import pyplot as plt\n",
    "import torch.nn as nn\n",
    "from torch.utils.data import Dataset, DataLoader\n",
    "import math\n",
    "from tqdm import tqdm\n",
    "from torch.utils.tensorboard import SummaryWriter\n"
   ]
  },
  {
   "cell_type": "code",
   "execution_count": 141,
   "metadata": {},
   "outputs": [],
   "source": [
    "#读取文件，更改数字即可测试另一个数据集\n",
    "number = 7\n",
    "str = [\"stainless_steel_milling_energy_model\",\n",
    "        \"high_speed_machining_energy_model\", \"laser_cleaning_energy_model\", \"milling_carbon_emission_model\",\"data\",\"data_1\",\"data_2\",\"data_3\",\"data_4\",\"data_5\"]\n",
    "figurename = [\"不锈钢铣削中机床比能预测\", \"高速高精加工中心切削过程能耗\",\n",
    "                \"激光清洗过程能耗\", \"铣削加工过程碳排放\",\"CAK50135di车削加工\",\"ACE-V500数控锐床能耗\",\"基于数据系统的离散制造系统能耗\",\"基于Vericut的机床能耗建模\",\"基于干式铣削机床能效\",\"数控机床能耗建模\"]\n",
    "xfilename = \"./data_read/\"+f\"{str[number]}.xlsx\"\n",
    "cfilename = \"./data_read/\"+f\"{str[number]}.csv\"\n",
    "\n",
    "\n"
   ]
  },
  {
   "cell_type": "code",
   "execution_count": 142,
   "metadata": {},
   "outputs": [],
   "source": [
    "#注意数据格式，如果是csv用上面的，xlsx用下面的\n",
    "# data = pd.read_csv(cfilename)\n",
    "# data = pd.read_csv(cfilename,usecols=range(1, len(data.columns)))\n",
    "# data"
   ]
  },
  {
   "cell_type": "code",
   "execution_count": 143,
   "metadata": {},
   "outputs": [
    {
     "data": {
      "text/html": [
       "<div>\n",
       "<style scoped>\n",
       "    .dataframe tbody tr th:only-of-type {\n",
       "        vertical-align: middle;\n",
       "    }\n",
       "\n",
       "    .dataframe tbody tr th {\n",
       "        vertical-align: top;\n",
       "    }\n",
       "\n",
       "    .dataframe thead th {\n",
       "        text-align: right;\n",
       "    }\n",
       "</style>\n",
       "<table border=\"1\" class=\"dataframe\">\n",
       "  <thead>\n",
       "    <tr style=\"text-align: right;\">\n",
       "      <th></th>\n",
       "      <th>n(r／min)</th>\n",
       "      <th>vf(mm／min)</th>\n",
       "      <th>h(mm)</th>\n",
       "      <th>W(mm)</th>\n",
       "      <th>P(kW)</th>\n",
       "    </tr>\n",
       "  </thead>\n",
       "  <tbody>\n",
       "    <tr>\n",
       "      <th>0</th>\n",
       "      <td>500</td>\n",
       "      <td>140</td>\n",
       "      <td>2.0</td>\n",
       "      <td>9</td>\n",
       "      <td>0.93</td>\n",
       "    </tr>\n",
       "    <tr>\n",
       "      <th>1</th>\n",
       "      <td>900</td>\n",
       "      <td>140</td>\n",
       "      <td>2.0</td>\n",
       "      <td>9</td>\n",
       "      <td>1.00</td>\n",
       "    </tr>\n",
       "    <tr>\n",
       "      <th>2</th>\n",
       "      <td>1300</td>\n",
       "      <td>140</td>\n",
       "      <td>2.0</td>\n",
       "      <td>9</td>\n",
       "      <td>1.10</td>\n",
       "    </tr>\n",
       "    <tr>\n",
       "      <th>3</th>\n",
       "      <td>1700</td>\n",
       "      <td>140</td>\n",
       "      <td>2.0</td>\n",
       "      <td>9</td>\n",
       "      <td>1.19</td>\n",
       "    </tr>\n",
       "    <tr>\n",
       "      <th>4</th>\n",
       "      <td>2100</td>\n",
       "      <td>140</td>\n",
       "      <td>2.0</td>\n",
       "      <td>9</td>\n",
       "      <td>1.29</td>\n",
       "    </tr>\n",
       "    <tr>\n",
       "      <th>5</th>\n",
       "      <td>500</td>\n",
       "      <td>120</td>\n",
       "      <td>1.5</td>\n",
       "      <td>6</td>\n",
       "      <td>0.89</td>\n",
       "    </tr>\n",
       "    <tr>\n",
       "      <th>6</th>\n",
       "      <td>900</td>\n",
       "      <td>120</td>\n",
       "      <td>1.5</td>\n",
       "      <td>6</td>\n",
       "      <td>0.93</td>\n",
       "    </tr>\n",
       "    <tr>\n",
       "      <th>7</th>\n",
       "      <td>1300</td>\n",
       "      <td>120</td>\n",
       "      <td>1.5</td>\n",
       "      <td>6</td>\n",
       "      <td>1.03</td>\n",
       "    </tr>\n",
       "    <tr>\n",
       "      <th>8</th>\n",
       "      <td>1700</td>\n",
       "      <td>120</td>\n",
       "      <td>1.5</td>\n",
       "      <td>6</td>\n",
       "      <td>1.13</td>\n",
       "    </tr>\n",
       "    <tr>\n",
       "      <th>9</th>\n",
       "      <td>2100</td>\n",
       "      <td>120</td>\n",
       "      <td>1.5</td>\n",
       "      <td>6</td>\n",
       "      <td>1.24</td>\n",
       "    </tr>\n",
       "    <tr>\n",
       "      <th>10</th>\n",
       "      <td>500</td>\n",
       "      <td>220</td>\n",
       "      <td>1.5</td>\n",
       "      <td>6</td>\n",
       "      <td>0.91</td>\n",
       "    </tr>\n",
       "    <tr>\n",
       "      <th>11</th>\n",
       "      <td>900</td>\n",
       "      <td>220</td>\n",
       "      <td>1.5</td>\n",
       "      <td>6</td>\n",
       "      <td>0.98</td>\n",
       "    </tr>\n",
       "    <tr>\n",
       "      <th>12</th>\n",
       "      <td>1300</td>\n",
       "      <td>220</td>\n",
       "      <td>1.5</td>\n",
       "      <td>6</td>\n",
       "      <td>1.09</td>\n",
       "    </tr>\n",
       "    <tr>\n",
       "      <th>13</th>\n",
       "      <td>1700</td>\n",
       "      <td>220</td>\n",
       "      <td>1.5</td>\n",
       "      <td>6</td>\n",
       "      <td>1.19</td>\n",
       "    </tr>\n",
       "    <tr>\n",
       "      <th>14</th>\n",
       "      <td>2100</td>\n",
       "      <td>220</td>\n",
       "      <td>1.5</td>\n",
       "      <td>6</td>\n",
       "      <td>1.30</td>\n",
       "    </tr>\n",
       "    <tr>\n",
       "      <th>15</th>\n",
       "      <td>500</td>\n",
       "      <td>200</td>\n",
       "      <td>1.0</td>\n",
       "      <td>3</td>\n",
       "      <td>0.89</td>\n",
       "    </tr>\n",
       "    <tr>\n",
       "      <th>16</th>\n",
       "      <td>900</td>\n",
       "      <td>200</td>\n",
       "      <td>1.0</td>\n",
       "      <td>3</td>\n",
       "      <td>0.93</td>\n",
       "    </tr>\n",
       "    <tr>\n",
       "      <th>17</th>\n",
       "      <td>1300</td>\n",
       "      <td>200</td>\n",
       "      <td>1.0</td>\n",
       "      <td>3</td>\n",
       "      <td>0.99</td>\n",
       "    </tr>\n",
       "    <tr>\n",
       "      <th>18</th>\n",
       "      <td>1700</td>\n",
       "      <td>200</td>\n",
       "      <td>1.0</td>\n",
       "      <td>3</td>\n",
       "      <td>1.09</td>\n",
       "    </tr>\n",
       "    <tr>\n",
       "      <th>19</th>\n",
       "      <td>2100</td>\n",
       "      <td>200</td>\n",
       "      <td>1.0</td>\n",
       "      <td>3</td>\n",
       "      <td>1.19</td>\n",
       "    </tr>\n",
       "    <tr>\n",
       "      <th>20</th>\n",
       "      <td>500</td>\n",
       "      <td>160</td>\n",
       "      <td>0.5</td>\n",
       "      <td>3</td>\n",
       "      <td>0.87</td>\n",
       "    </tr>\n",
       "    <tr>\n",
       "      <th>21</th>\n",
       "      <td>900</td>\n",
       "      <td>160</td>\n",
       "      <td>0.5</td>\n",
       "      <td>3</td>\n",
       "      <td>0.92</td>\n",
       "    </tr>\n",
       "    <tr>\n",
       "      <th>22</th>\n",
       "      <td>1300</td>\n",
       "      <td>160</td>\n",
       "      <td>0.5</td>\n",
       "      <td>3</td>\n",
       "      <td>0.98</td>\n",
       "    </tr>\n",
       "    <tr>\n",
       "      <th>23</th>\n",
       "      <td>1700</td>\n",
       "      <td>160</td>\n",
       "      <td>0.5</td>\n",
       "      <td>3</td>\n",
       "      <td>1.06</td>\n",
       "    </tr>\n",
       "    <tr>\n",
       "      <th>24</th>\n",
       "      <td>2100</td>\n",
       "      <td>160</td>\n",
       "      <td>0.5</td>\n",
       "      <td>3</td>\n",
       "      <td>1.15</td>\n",
       "    </tr>\n",
       "    <tr>\n",
       "      <th>25</th>\n",
       "      <td>500</td>\n",
       "      <td>240</td>\n",
       "      <td>0.5</td>\n",
       "      <td>9</td>\n",
       "      <td>0.89</td>\n",
       "    </tr>\n",
       "    <tr>\n",
       "      <th>26</th>\n",
       "      <td>900</td>\n",
       "      <td>240</td>\n",
       "      <td>0.5</td>\n",
       "      <td>9</td>\n",
       "      <td>0.93</td>\n",
       "    </tr>\n",
       "    <tr>\n",
       "      <th>27</th>\n",
       "      <td>1300</td>\n",
       "      <td>240</td>\n",
       "      <td>0.5</td>\n",
       "      <td>9</td>\n",
       "      <td>1.01</td>\n",
       "    </tr>\n",
       "    <tr>\n",
       "      <th>28</th>\n",
       "      <td>1700</td>\n",
       "      <td>240</td>\n",
       "      <td>0.5</td>\n",
       "      <td>9</td>\n",
       "      <td>1.12</td>\n",
       "    </tr>\n",
       "    <tr>\n",
       "      <th>29</th>\n",
       "      <td>2100</td>\n",
       "      <td>240</td>\n",
       "      <td>0.5</td>\n",
       "      <td>9</td>\n",
       "      <td>1.21</td>\n",
       "    </tr>\n",
       "  </tbody>\n",
       "</table>\n",
       "</div>"
      ],
      "text/plain": [
       "    n(r／min)  vf(mm／min)  h(mm)  W(mm)  P(kW)\n",
       "0        500         140    2.0      9   0.93\n",
       "1        900         140    2.0      9   1.00\n",
       "2       1300         140    2.0      9   1.10\n",
       "3       1700         140    2.0      9   1.19\n",
       "4       2100         140    2.0      9   1.29\n",
       "5        500         120    1.5      6   0.89\n",
       "6        900         120    1.5      6   0.93\n",
       "7       1300         120    1.5      6   1.03\n",
       "8       1700         120    1.5      6   1.13\n",
       "9       2100         120    1.5      6   1.24\n",
       "10       500         220    1.5      6   0.91\n",
       "11       900         220    1.5      6   0.98\n",
       "12      1300         220    1.5      6   1.09\n",
       "13      1700         220    1.5      6   1.19\n",
       "14      2100         220    1.5      6   1.30\n",
       "15       500         200    1.0      3   0.89\n",
       "16       900         200    1.0      3   0.93\n",
       "17      1300         200    1.0      3   0.99\n",
       "18      1700         200    1.0      3   1.09\n",
       "19      2100         200    1.0      3   1.19\n",
       "20       500         160    0.5      3   0.87\n",
       "21       900         160    0.5      3   0.92\n",
       "22      1300         160    0.5      3   0.98\n",
       "23      1700         160    0.5      3   1.06\n",
       "24      2100         160    0.5      3   1.15\n",
       "25       500         240    0.5      9   0.89\n",
       "26       900         240    0.5      9   0.93\n",
       "27      1300         240    0.5      9   1.01\n",
       "28      1700         240    0.5      9   1.12\n",
       "29      2100         240    0.5      9   1.21"
      ]
     },
     "execution_count": 143,
     "metadata": {},
     "output_type": "execute_result"
    }
   ],
   "source": [
    "data = pd.read_excel(xfilename)\n",
    "data = pd.read_excel(xfilename, usecols=range(1, len(data.columns)))\n",
    "data"
   ]
  },
  {
   "cell_type": "code",
   "execution_count": 144,
   "metadata": {},
   "outputs": [
    {
     "data": {
      "text/plain": [
       "['n(r／min)', 'vf(mm／min)', 'h(mm)', 'W(mm)', 'P(kW)']"
      ]
     },
     "execution_count": 144,
     "metadata": {},
     "output_type": "execute_result"
    }
   ],
   "source": [
    "list(data.columns)\n"
   ]
  },
  {
   "cell_type": "code",
   "execution_count": 145,
   "metadata": {},
   "outputs": [
    {
     "data": {
      "text/plain": [
       "<seaborn.axisgrid.PairGrid at 0x22c01cbffa0>"
      ]
     },
     "execution_count": 145,
     "metadata": {},
     "output_type": "execute_result"
    },
    {
     "data": {
      "image/png": "[encoded data removed]",
      "text/plain": [
       "<Figure size 1000x250 with 4 Axes>"
      ]
     },
     "metadata": {},
     "output_type": "display_data"
    }
   ],
   "source": [
    "#观察各个feature与P(W)的关系\n",
    "import seaborn as sns\n",
    "sns.pairplot(data, x_vars=list(data.columns)[:-1], y_vars=list(data.columns)[-1])\n"
   ]
  },
  {
   "cell_type": "code",
   "execution_count": 146,
   "metadata": {},
   "outputs": [
    {
     "data": {
      "text/plain": [
       "1.4142135623730951"
      ]
     },
     "execution_count": 146,
     "metadata": {},
     "output_type": "execute_result"
    }
   ],
   "source": [
    "a = np.array([1,2,3,4,5])\n",
    "np.std(a)"
   ]
  },
  {
   "cell_type": "code",
   "execution_count": 147,
   "metadata": {},
   "outputs": [],
   "source": [
    "#搭建模型网络\n",
    "class Pw_Model(nn.Module):\n",
    "    def __init__(self, input_dim):\n",
    "        super(Pw_Model, self).__init__()\n",
    "        self.layers = nn.Sequential(\n",
    "            nn.Linear(input_dim, 128),\n",
    "            nn.ReLU(),\n",
    "            nn.Linear(128, 128),\n",
    "            nn.ReLU(),\n",
    "            nn.Linear(128, 1)\n",
    "        )\n",
    "\n",
    "    def forward(self, x):\n",
    "        x = self.layers(x)\n",
    "        x = x.squeeze(1)  # (B, 1) -> (B)\n",
    "        return x\n",
    "    \n",
    "#数据加载转换tensor类\n",
    "class Pw_Dataset(Dataset):\n",
    "    '''\n",
    "    x: Features.\n",
    "    y: Targets, if none, do prediction.\n",
    "    '''\n",
    "    def __init__(self, x, y=None):\n",
    "        if y is None:\n",
    "            self.y = y\n",
    "        else:\n",
    "            self.y = torch.FloatTensor(y)\n",
    "        self.x = torch.FloatTensor(x)\n",
    "\n",
    "    def __getitem__(self, idx):\n",
    "        if self.y is None:\n",
    "            return self.x[idx]\n",
    "        else:\n",
    "            return self.x[idx], self.y[idx]\n",
    "\n",
    "    def __len__(self):\n",
    "        return len(self.x)\n"
   ]
  },
  {
   "cell_type": "code",
   "execution_count": 148,
   "metadata": {},
   "outputs": [],
   "source": [
    "#hyperparameters配置\n",
    "device = 'cuda' if torch.cuda.is_available() else 'cpu'\n",
    "config = {\n",
    "    'n_epochs': 1000,     # Number of epochs.\n",
    "    'batch_size': 256,\n",
    "    'learning_rate': 1e-4,\n",
    "}\n"
   ]
  },
  {
   "cell_type": "code",
   "execution_count": 149,
   "metadata": {},
   "outputs": [
    {
     "data": {
      "text/html": [
       "<div>\n",
       "<style scoped>\n",
       "    .dataframe tbody tr th:only-of-type {\n",
       "        vertical-align: middle;\n",
       "    }\n",
       "\n",
       "    .dataframe tbody tr th {\n",
       "        vertical-align: top;\n",
       "    }\n",
       "\n",
       "    .dataframe thead th {\n",
       "        text-align: right;\n",
       "    }\n",
       "</style>\n",
       "<table border=\"1\" class=\"dataframe\">\n",
       "  <thead>\n",
       "    <tr style=\"text-align: right;\">\n",
       "      <th></th>\n",
       "      <th>n(r／min)</th>\n",
       "      <th>vf(mm／min)</th>\n",
       "      <th>h(mm)</th>\n",
       "      <th>W(mm)</th>\n",
       "      <th>P(kW)</th>\n",
       "    </tr>\n",
       "  </thead>\n",
       "  <tbody>\n",
       "    <tr>\n",
       "      <th>0</th>\n",
       "      <td>-1.414214</td>\n",
       "      <td>-0.92582</td>\n",
       "      <td>1.507557</td>\n",
       "      <td>1.224745</td>\n",
       "      <td>-0.921885</td>\n",
       "    </tr>\n",
       "    <tr>\n",
       "      <th>1</th>\n",
       "      <td>-0.707107</td>\n",
       "      <td>-0.92582</td>\n",
       "      <td>1.507557</td>\n",
       "      <td>1.224745</td>\n",
       "      <td>-0.373455</td>\n",
       "    </tr>\n",
       "    <tr>\n",
       "      <th>2</th>\n",
       "      <td>0.000000</td>\n",
       "      <td>-0.92582</td>\n",
       "      <td>1.507557</td>\n",
       "      <td>1.224745</td>\n",
       "      <td>0.410017</td>\n",
       "    </tr>\n",
       "    <tr>\n",
       "      <th>3</th>\n",
       "      <td>0.707107</td>\n",
       "      <td>-0.92582</td>\n",
       "      <td>1.507557</td>\n",
       "      <td>1.224745</td>\n",
       "      <td>1.115141</td>\n",
       "    </tr>\n",
       "    <tr>\n",
       "      <th>4</th>\n",
       "      <td>1.414214</td>\n",
       "      <td>-0.92582</td>\n",
       "      <td>1.507557</td>\n",
       "      <td>1.224745</td>\n",
       "      <td>1.898612</td>\n",
       "    </tr>\n",
       "    <tr>\n",
       "      <th>5</th>\n",
       "      <td>-1.414214</td>\n",
       "      <td>-1.38873</td>\n",
       "      <td>0.603023</td>\n",
       "      <td>0.000000</td>\n",
       "      <td>-1.235273</td>\n",
       "    </tr>\n",
       "    <tr>\n",
       "      <th>6</th>\n",
       "      <td>-0.707107</td>\n",
       "      <td>-1.38873</td>\n",
       "      <td>0.603023</td>\n",
       "      <td>0.000000</td>\n",
       "      <td>-0.921885</td>\n",
       "    </tr>\n",
       "    <tr>\n",
       "      <th>7</th>\n",
       "      <td>0.000000</td>\n",
       "      <td>-1.38873</td>\n",
       "      <td>0.603023</td>\n",
       "      <td>0.000000</td>\n",
       "      <td>-0.138413</td>\n",
       "    </tr>\n",
       "    <tr>\n",
       "      <th>8</th>\n",
       "      <td>0.707107</td>\n",
       "      <td>-1.38873</td>\n",
       "      <td>0.603023</td>\n",
       "      <td>0.000000</td>\n",
       "      <td>0.645058</td>\n",
       "    </tr>\n",
       "    <tr>\n",
       "      <th>9</th>\n",
       "      <td>1.414214</td>\n",
       "      <td>-1.38873</td>\n",
       "      <td>0.603023</td>\n",
       "      <td>0.000000</td>\n",
       "      <td>1.506877</td>\n",
       "    </tr>\n",
       "    <tr>\n",
       "      <th>10</th>\n",
       "      <td>-1.414214</td>\n",
       "      <td>0.92582</td>\n",
       "      <td>0.603023</td>\n",
       "      <td>0.000000</td>\n",
       "      <td>-1.078579</td>\n",
       "    </tr>\n",
       "    <tr>\n",
       "      <th>11</th>\n",
       "      <td>-0.707107</td>\n",
       "      <td>0.92582</td>\n",
       "      <td>0.603023</td>\n",
       "      <td>0.000000</td>\n",
       "      <td>-0.530149</td>\n",
       "    </tr>\n",
       "    <tr>\n",
       "      <th>12</th>\n",
       "      <td>0.000000</td>\n",
       "      <td>0.92582</td>\n",
       "      <td>0.603023</td>\n",
       "      <td>0.000000</td>\n",
       "      <td>0.331670</td>\n",
       "    </tr>\n",
       "    <tr>\n",
       "      <th>13</th>\n",
       "      <td>0.707107</td>\n",
       "      <td>0.92582</td>\n",
       "      <td>0.603023</td>\n",
       "      <td>0.000000</td>\n",
       "      <td>1.115141</td>\n",
       "    </tr>\n",
       "    <tr>\n",
       "      <th>14</th>\n",
       "      <td>1.414214</td>\n",
       "      <td>0.92582</td>\n",
       "      <td>0.603023</td>\n",
       "      <td>0.000000</td>\n",
       "      <td>1.976960</td>\n",
       "    </tr>\n",
       "    <tr>\n",
       "      <th>15</th>\n",
       "      <td>-1.414214</td>\n",
       "      <td>0.46291</td>\n",
       "      <td>-0.301511</td>\n",
       "      <td>-1.224745</td>\n",
       "      <td>-1.235273</td>\n",
       "    </tr>\n",
       "    <tr>\n",
       "      <th>16</th>\n",
       "      <td>-0.707107</td>\n",
       "      <td>0.46291</td>\n",
       "      <td>-0.301511</td>\n",
       "      <td>-1.224745</td>\n",
       "      <td>-0.921885</td>\n",
       "    </tr>\n",
       "    <tr>\n",
       "      <th>17</th>\n",
       "      <td>0.000000</td>\n",
       "      <td>0.46291</td>\n",
       "      <td>-0.301511</td>\n",
       "      <td>-1.224745</td>\n",
       "      <td>-0.451802</td>\n",
       "    </tr>\n",
       "    <tr>\n",
       "      <th>18</th>\n",
       "      <td>0.707107</td>\n",
       "      <td>0.46291</td>\n",
       "      <td>-0.301511</td>\n",
       "      <td>-1.224745</td>\n",
       "      <td>0.331670</td>\n",
       "    </tr>\n",
       "    <tr>\n",
       "      <th>19</th>\n",
       "      <td>1.414214</td>\n",
       "      <td>0.46291</td>\n",
       "      <td>-0.301511</td>\n",
       "      <td>-1.224745</td>\n",
       "      <td>1.115141</td>\n",
       "    </tr>\n",
       "    <tr>\n",
       "      <th>20</th>\n",
       "      <td>-1.414214</td>\n",
       "      <td>-0.46291</td>\n",
       "      <td>-1.206045</td>\n",
       "      <td>-1.224745</td>\n",
       "      <td>-1.391968</td>\n",
       "    </tr>\n",
       "    <tr>\n",
       "      <th>21</th>\n",
       "      <td>-0.707107</td>\n",
       "      <td>-0.46291</td>\n",
       "      <td>-1.206045</td>\n",
       "      <td>-1.224745</td>\n",
       "      <td>-1.000232</td>\n",
       "    </tr>\n",
       "    <tr>\n",
       "      <th>22</th>\n",
       "      <td>0.000000</td>\n",
       "      <td>-0.46291</td>\n",
       "      <td>-1.206045</td>\n",
       "      <td>-1.224745</td>\n",
       "      <td>-0.530149</td>\n",
       "    </tr>\n",
       "    <tr>\n",
       "      <th>23</th>\n",
       "      <td>0.707107</td>\n",
       "      <td>-0.46291</td>\n",
       "      <td>-1.206045</td>\n",
       "      <td>-1.224745</td>\n",
       "      <td>0.096628</td>\n",
       "    </tr>\n",
       "    <tr>\n",
       "      <th>24</th>\n",
       "      <td>1.414214</td>\n",
       "      <td>-0.46291</td>\n",
       "      <td>-1.206045</td>\n",
       "      <td>-1.224745</td>\n",
       "      <td>0.801752</td>\n",
       "    </tr>\n",
       "    <tr>\n",
       "      <th>25</th>\n",
       "      <td>-1.414214</td>\n",
       "      <td>1.38873</td>\n",
       "      <td>-1.206045</td>\n",
       "      <td>1.224745</td>\n",
       "      <td>-1.235273</td>\n",
       "    </tr>\n",
       "    <tr>\n",
       "      <th>26</th>\n",
       "      <td>-0.707107</td>\n",
       "      <td>1.38873</td>\n",
       "      <td>-1.206045</td>\n",
       "      <td>1.224745</td>\n",
       "      <td>-0.921885</td>\n",
       "    </tr>\n",
       "    <tr>\n",
       "      <th>27</th>\n",
       "      <td>0.000000</td>\n",
       "      <td>1.38873</td>\n",
       "      <td>-1.206045</td>\n",
       "      <td>1.224745</td>\n",
       "      <td>-0.295108</td>\n",
       "    </tr>\n",
       "    <tr>\n",
       "      <th>28</th>\n",
       "      <td>0.707107</td>\n",
       "      <td>1.38873</td>\n",
       "      <td>-1.206045</td>\n",
       "      <td>1.224745</td>\n",
       "      <td>0.566711</td>\n",
       "    </tr>\n",
       "    <tr>\n",
       "      <th>29</th>\n",
       "      <td>1.414214</td>\n",
       "      <td>1.38873</td>\n",
       "      <td>-1.206045</td>\n",
       "      <td>1.224745</td>\n",
       "      <td>1.271835</td>\n",
       "    </tr>\n",
       "  </tbody>\n",
       "</table>\n",
       "</div>"
      ],
      "text/plain": [
       "    n(r／min)  vf(mm／min)     h(mm)     W(mm)     P(kW)\n",
       "0  -1.414214    -0.92582  1.507557  1.224745 -0.921885\n",
       "1  -0.707107    -0.92582  1.507557  1.224745 -0.373455\n",
       "2   0.000000    -0.92582  1.507557  1.224745  0.410017\n",
       "3   0.707107    -0.92582  1.507557  1.224745  1.115141\n",
       "4   1.414214    -0.92582  1.507557  1.224745  1.898612\n",
       "5  -1.414214    -1.38873  0.603023  0.000000 -1.235273\n",
       "6  -0.707107    -1.38873  0.603023  0.000000 -0.921885\n",
       "7   0.000000    -1.38873  0.603023  0.000000 -0.138413\n",
       "8   0.707107    -1.38873  0.603023  0.000000  0.645058\n",
       "9   1.414214    -1.38873  0.603023  0.000000  1.506877\n",
       "10 -1.414214     0.92582  0.603023  0.000000 -1.078579\n",
       "11 -0.707107     0.92582  0.603023  0.000000 -0.530149\n",
       "12  0.000000     0.92582  0.603023  0.000000  0.331670\n",
       "13  0.707107     0.92582  0.603023  0.000000  1.115141\n",
       "14  1.414214     0.92582  0.603023  0.000000  1.976960\n",
       "15 -1.414214     0.46291 -0.301511 -1.224745 -1.235273\n",
       "16 -0.707107     0.46291 -0.301511 -1.224745 -0.921885\n",
       "17  0.000000     0.46291 -0.301511 -1.224745 -0.451802\n",
       "18  0.707107     0.46291 -0.301511 -1.224745  0.331670\n",
       "19  1.414214     0.46291 -0.301511 -1.224745  1.115141\n",
       "20 -1.414214    -0.46291 -1.206045 -1.224745 -1.391968\n",
       "21 -0.707107    -0.46291 -1.206045 -1.224745 -1.000232\n",
       "22  0.000000    -0.46291 -1.206045 -1.224745 -0.530149\n",
       "23  0.707107    -0.46291 -1.206045 -1.224745  0.096628\n",
       "24  1.414214    -0.46291 -1.206045 -1.224745  0.801752\n",
       "25 -1.414214     1.38873 -1.206045  1.224745 -1.235273\n",
       "26 -0.707107     1.38873 -1.206045  1.224745 -0.921885\n",
       "27  0.000000     1.38873 -1.206045  1.224745 -0.295108\n",
       "28  0.707107     1.38873 -1.206045  1.224745  0.566711\n",
       "29  1.414214     1.38873 -1.206045  1.224745  1.271835"
      ]
     },
     "execution_count": 149,
     "metadata": {},
     "output_type": "execute_result"
    }
   ],
   "source": [
    "#标准化操作示例\n",
    "data_normalized = data\n",
    "data_normalized.apply(lambda x: (x - np.mean(x)) / (np.std(x)))\n"
   ]
  },
  {
   "cell_type": "code",
   "execution_count": 150,
   "metadata": {},
   "outputs": [],
   "source": [
    "#初始化数据\n",
    "#打乱\n",
    "data = data.sample(frac=1.0)\n",
    "#标准化(理论上先划分再归一化，这里偷懒了，对于data_1不归一化效果也很好，因为已经做过量纲处理了)\n",
    "data_normalized = data.apply(lambda x: (x - np.mean(x)) / (np.std(x)))\n",
    "#划分训练集和验证集\n",
    "divide = int(data.shape[0]*0.85)\n",
    "train_data, test_data = data_normalized.iloc[:divide], data_normalized.iloc[divide:data.shape[0]]\n",
    "train_data, test_data = train_data.values,test_data.values\n",
    "\n",
    "train_y , test_y = train_data[:,-1],test_data[:,-1]\n",
    "train_x , test_x = train_data[:,:-1],test_data[:,:-1]\n",
    "\n",
    "train_dataset, test_dataset = Pw_Dataset(\n",
    "    train_x, train_y), Pw_Dataset(test_x, test_y)\n",
    "train_loader = DataLoader(\n",
    "    train_dataset, batch_size=config['batch_size'], shuffle=True, pin_memory=True)\n",
    "test_loader = DataLoader(\n",
    "    test_dataset, batch_size=config['batch_size'], shuffle=False, pin_memory=True)\n"
   ]
  },
  {
   "cell_type": "code",
   "execution_count": 151,
   "metadata": {},
   "outputs": [],
   "source": [
    "#优化函数，损失函数，数据迁移\n",
    "model = Pw_Model(input_dim=train_x.shape[1]).to(device)\n",
    "criterion = nn.MSELoss(reduction='mean')\n",
    "optimizer = torch.optim.Adam(\n",
    "    model.parameters(), lr=config['learning_rate'])\n",
    "\n"
   ]
  },
  {
   "cell_type": "code",
   "execution_count": 152,
   "metadata": {},
   "outputs": [],
   "source": [
    "#训练\n",
    "def trainer(train_loader, model, config, device):\n",
    "    n_epochs,step = config['n_epochs'],0\n",
    "    loss_record = []\n",
    "    for epoch in range(n_epochs):\n",
    "        model.train()  # Set your model to train mode.\n",
    "        # tqdm is a package to visualize your training progress.\n",
    "        train_pbar = tqdm(train_loader, leave=False)\n",
    "        for x, y in train_pbar:\n",
    "            optimizer.zero_grad()               # Set gradient to zero.\n",
    "            x, y = x.to(device), y.to(device)   # Move your data to device.\n",
    "            pred = model(x)\n",
    "            loss = criterion(pred, y)\n",
    "            # Compute gradient(backpropagation).\n",
    "            loss.backward()\n",
    "            optimizer.step()                    # Update parameters.\n",
    "            step += 1\n",
    "            loss_record.append(loss.detach().item())\n",
    "        mean_train_loss = sum(loss_record)/len(loss_record)\n",
    "        if(epoch+1)%50==0:\n",
    "            print(f'Epoch[{epoch+1}/{n_epochs}]: Train loss: {mean_train_loss: .8f}')\n",
    "    return loss_record\n"
   ]
  },
  {
   "cell_type": "code",
   "execution_count": 153,
   "metadata": {},
   "outputs": [],
   "source": [
    "#测试\n",
    "def test(test_loader,model,device):\n",
    "    model.eval()  # Set your model to evaluation mode.\n",
    "    loss_record = []\n",
    "    predict = []\n",
    "    for x, y in test_loader:\n",
    "        x, y = x.to(device), y.to(device)\n",
    "        with torch.no_grad():\n",
    "            pred = model(x)\n",
    "            predict.append(pred)\n",
    "            loss = criterion(pred, y)\n",
    "        loss_record.append(loss.item())\n",
    "    mean_test_loss = sum(loss_record)/len(loss_record)\n",
    "    with open(\"./renderings/test_score.txt\", \"a\") as file:\n",
    "        file.write(figurename[number]+\"模型\\n\")\n",
    "        file.write(f'test loss: {mean_test_loss:.8f}\\n')\n",
    "    return predict\n"
   ]
  },
  {
   "cell_type": "code",
   "execution_count": 154,
   "metadata": {},
   "outputs": [
    {
     "name": "stderr",
     "output_type": "stream",
     "text": [
      "                                     \r"
     ]
    },
    {
     "name": "stdout",
     "output_type": "stream",
     "text": [
      "Epoch[50/1000]: Train loss:  0.88036937\n"
     ]
    },
    {
     "name": "stderr",
     "output_type": "stream",
     "text": [
      "                                     \r"
     ]
    },
    {
     "name": "stdout",
     "output_type": "stream",
     "text": [
      "Epoch[100/1000]: Train loss:  0.64023430\n"
     ]
    },
    {
     "name": "stderr",
     "output_type": "stream",
     "text": [
      "                                     \r"
     ]
    },
    {
     "name": "stdout",
     "output_type": "stream",
     "text": [
      "Epoch[150/1000]: Train loss:  0.46252317\n"
     ]
    },
    {
     "name": "stderr",
     "output_type": "stream",
     "text": [
      "                                     \r"
     ]
    },
    {
     "name": "stdout",
     "output_type": "stream",
     "text": [
      "Epoch[200/1000]: Train loss:  0.35421568\n"
     ]
    },
    {
     "name": "stderr",
     "output_type": "stream",
     "text": [
      "                                     \r"
     ]
    },
    {
     "name": "stdout",
     "output_type": "stream",
     "text": [
      "Epoch[250/1000]: Train loss:  0.28599435\n"
     ]
    },
    {
     "name": "stderr",
     "output_type": "stream",
     "text": [
      "                                     \r"
     ]
    },
    {
     "name": "stdout",
     "output_type": "stream",
     "text": [
      "Epoch[300/1000]: Train loss:  0.23953022\n"
     ]
    },
    {
     "name": "stderr",
     "output_type": "stream",
     "text": [
      "                                     \r"
     ]
    },
    {
     "name": "stdout",
     "output_type": "stream",
     "text": [
      "Epoch[350/1000]: Train loss:  0.20592630\n"
     ]
    },
    {
     "name": "stderr",
     "output_type": "stream",
     "text": [
      "                                     \r"
     ]
    },
    {
     "name": "stdout",
     "output_type": "stream",
     "text": [
      "Epoch[400/1000]: Train loss:  0.18052081\n"
     ]
    },
    {
     "name": "stderr",
     "output_type": "stream",
     "text": [
      "                                     \r"
     ]
    },
    {
     "name": "stdout",
     "output_type": "stream",
     "text": [
      "Epoch[450/1000]: Train loss:  0.16065353\n"
     ]
    },
    {
     "name": "stderr",
     "output_type": "stream",
     "text": [
      "                                     \r"
     ]
    },
    {
     "name": "stdout",
     "output_type": "stream",
     "text": [
      "Epoch[500/1000]: Train loss:  0.14470460\n"
     ]
    },
    {
     "name": "stderr",
     "output_type": "stream",
     "text": [
      "                                     \r"
     ]
    },
    {
     "name": "stdout",
     "output_type": "stream",
     "text": [
      "Epoch[550/1000]: Train loss:  0.13162645\n"
     ]
    },
    {
     "name": "stderr",
     "output_type": "stream",
     "text": [
      "                                     \r"
     ]
    },
    {
     "name": "stdout",
     "output_type": "stream",
     "text": [
      "Epoch[600/1000]: Train loss:  0.12071115\n"
     ]
    },
    {
     "name": "stderr",
     "output_type": "stream",
     "text": [
      "                                     \r"
     ]
    },
    {
     "name": "stdout",
     "output_type": "stream",
     "text": [
      "Epoch[650/1000]: Train loss:  0.11146455\n"
     ]
    },
    {
     "name": "stderr",
     "output_type": "stream",
     "text": [
      "                                     \r"
     ]
    },
    {
     "name": "stdout",
     "output_type": "stream",
     "text": [
      "Epoch[700/1000]: Train loss:  0.10353190\n"
     ]
    },
    {
     "name": "stderr",
     "output_type": "stream",
     "text": [
      "                                     \r"
     ]
    },
    {
     "name": "stdout",
     "output_type": "stream",
     "text": [
      "Epoch[750/1000]: Train loss:  0.09665222\n"
     ]
    },
    {
     "name": "stderr",
     "output_type": "stream",
     "text": [
      "                                     \r"
     ]
    },
    {
     "name": "stdout",
     "output_type": "stream",
     "text": [
      "Epoch[800/1000]: Train loss:  0.09062914\n"
     ]
    },
    {
     "name": "stderr",
     "output_type": "stream",
     "text": [
      "                                     \r"
     ]
    },
    {
     "name": "stdout",
     "output_type": "stream",
     "text": [
      "Epoch[850/1000]: Train loss:  0.08531223\n"
     ]
    },
    {
     "name": "stderr",
     "output_type": "stream",
     "text": [
      "                                     \r"
     ]
    },
    {
     "name": "stdout",
     "output_type": "stream",
     "text": [
      "Epoch[900/1000]: Train loss:  0.08058425\n"
     ]
    },
    {
     "name": "stderr",
     "output_type": "stream",
     "text": [
      "                                     \r"
     ]
    },
    {
     "name": "stdout",
     "output_type": "stream",
     "text": [
      "Epoch[950/1000]: Train loss:  0.07635252\n"
     ]
    },
    {
     "name": "stderr",
     "output_type": "stream",
     "text": [
      "                                     \r"
     ]
    },
    {
     "name": "stdout",
     "output_type": "stream",
     "text": [
      "Epoch[1000/1000]: Train loss:  0.07254284\n"
     ]
    },
    {
     "data": {
      "image/png": "[encoded data removed]",
      "text/plain": [
       "<Figure size 640x480 with 1 Axes>"
      ]
     },
     "metadata": {},
     "output_type": "display_data"
    }
   ],
   "source": [
    "y_train_loss = trainer(train_loader, model, config, device)      # loss值，即y轴\n",
    "x_train_loss = range(len(y_train_loss))\t\t\t # loss的数量，即x轴\n",
    "plt.figure()\n",
    "\n",
    "# 去除顶部和右边框框\n",
    "ax = plt.axes()\n",
    "ax.spines['top'].set_visible(False)\n",
    "ax.spines['right'].set_visible(False)\n",
    "plt.rcParams[\"font.sans-serif\"] = [\"SimHei\"]  # 设置字体\n",
    "plt.rcParams[\"axes.unicode_minus\"] = False  # 正常显示负号\n",
    "\n",
    "plt.xlabel('iters')    # x轴标签\n",
    "plt.ylabel('loss')     # y轴标签\n",
    "\n",
    "# 以x_train_loss为横坐标，y_train_loss为纵坐标，曲线宽度为1，实线，增加标签，训练损失，\n",
    "plt.plot(x_train_loss, y_train_loss, linewidth=1,\n",
    "         linestyle=\"solid\", label=\"train loss\")\n",
    "plt.legend()\n",
    "plt.title(figurename[number]+\"损失函数\")\n",
    "plt.savefig(\"./renderings/\"+figurename[number]+\"损失函数\")\n",
    "plt.show()\n"
   ]
  },
  {
   "cell_type": "code",
   "execution_count": 155,
   "metadata": {},
   "outputs": [
    {
     "data": {
      "text/plain": [
       "[tensor([-1.4225,  0.4517,  0.0635, -0.1504,  1.2085], device='cuda:0')]"
      ]
     },
     "execution_count": 155,
     "metadata": {},
     "output_type": "execute_result"
    }
   ],
   "source": [
    "predict = test(test_loader,model,device)\n",
    "predict"
   ]
  },
  {
   "cell_type": "code",
   "execution_count": 156,
   "metadata": {},
   "outputs": [],
   "source": [
    "# %reload_ext tensorboard\n",
    "# %tensorboard --logdir=./runs/"
   ]
  },
  {
   "cell_type": "code",
   "execution_count": 157,
   "metadata": {},
   "outputs": [
    {
     "data": {
      "image/png": "[encoded data removed]",
      "text/plain": [
       "<Figure size 640x480 with 1 Axes>"
      ]
     },
     "metadata": {},
     "output_type": "display_data"
    },
    {
     "name": "stdout",
     "output_type": "stream",
     "text": [
      "0.9811311986563273\n"
     ]
    }
   ],
   "source": [
    "from sklearn.metrics import r2_score\n",
    "real= np.array(test_y)\n",
    "compute = predict[0].cuda().cpu().numpy()\n",
    "#测试数据散点图\n",
    "plt.scatter(real, compute, color='red', label=\"test data\")\n",
    "#添加图标标签\n",
    "plt.legend(loc=2)\n",
    "plt.xlabel(\"Hours\")\n",
    "plt.ylabel(\"Score\")\n",
    "#显示图像\n",
    "save_fig = \"./score/\"+figurename[number]\n",
    "plt.savefig(save_fig+\"score\")\n",
    "plt.show()\n",
    "#计算拟合优度\n",
    "score = r2_score(real, compute)\n",
    "print(score)\n"
   ]
  },
  {
   "cell_type": "code",
   "execution_count": 158,
   "metadata": {},
   "outputs": [],
   "source": [
    "save_name = \"./save/\"+str[number]+\".pt\"\n",
    "torch.save(model, save_name)\n"
   ]
  }
 ],
 "metadata": {
  "kernelspec": {
   "display_name": "Python 3",
   "language": "python",
   "name": "python3"
  },
  "language_info": {
   "codemirror_mode": {
    "name": "ipython",
    "version": 3
   },
   "file_extension": ".py",
   "mimetype": "text/x-python",
   "name": "python",
   "nbconvert_exporter": "python",
   "pygments_lexer": "ipython3",
   "version": "3.10.8"
  },
  "orig_nbformat": 4
 },
 "nbformat": 4,
 "nbformat_minor": 2
}
