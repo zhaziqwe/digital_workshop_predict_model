{
 "cells": [
  {
   "attachments": {},
   "cell_type": "markdown",
   "metadata": {},
   "source": [
    "### 功率模型\n"
   ]
  },
  {
   "cell_type": "code",
   "execution_count": 192,
   "metadata": {},
   "outputs": [],
   "source": [
    "\n",
    "#导入基础库\n",
    "import numpy as np\n",
    "import pandas as pd\n",
    "import torch\n",
    "from matplotlib import pyplot as plt\n",
    "import torch.nn as nn\n",
    "from torch.utils.data import Dataset, DataLoader\n",
    "import math\n",
    "from tqdm import tqdm\n",
    "from torch.utils.tensorboard import SummaryWriter\n"
   ]
  },
  {
   "cell_type": "code",
   "execution_count": 193,
   "metadata": {},
   "outputs": [],
   "source": [
    "#读取文件，更改数字即可测试另一个数据集\n",
    "number = 2\n",
    "str = [\"stainless_steel_milling_energy_model\",\n",
    "        \"high_speed_machining_energy_model\", \"laser_cleaning_energy_model\", \"milling_carbon_emission_model\",\"data\",\"data_1\",\"data_2\"]\n",
    "figurename = [\"不锈钢铣削中机床比能预测\", \"高速高精加工中心切削过程能耗\",\n",
    "                \"激光清洗过程能耗\", \"铣削加工过程碳排放\",\"CAK50135di车削加工\",\"ACE-V500数控锐床能耗\",\"基于数据系统的离散制造系统能耗\"]\n",
    "xfilename = \"./data_read/\"+f\"{str[number]}.xlsx\"\n",
    "cfilename = \"./data_read/\"+f\"{str[number]}.csv\"\n",
    "\n",
    "\n"
   ]
  },
  {
   "cell_type": "code",
   "execution_count": 194,
   "metadata": {},
   "outputs": [],
   "source": [
    "#注意数据格式，如果是csv用上面的，xlsx用下面的\n",
    "# data = pd.read_csv(cfilename)\n",
    "# data = pd.read_csv(cfilename,usecols=range(1, len(data.columns)))\n",
    "# data"
   ]
  },
  {
   "cell_type": "code",
   "execution_count": 195,
   "metadata": {},
   "outputs": [
    {
     "data": {
      "text/html": [
       "<div>\n",
       "<style scoped>\n",
       "    .dataframe tbody tr th:only-of-type {\n",
       "        vertical-align: middle;\n",
       "    }\n",
       "\n",
       "    .dataframe tbody tr th {\n",
       "        vertical-align: top;\n",
       "    }\n",
       "\n",
       "    .dataframe thead th {\n",
       "        text-align: right;\n",
       "    }\n",
       "</style>\n",
       "<table border=\"1\" class=\"dataframe\">\n",
       "  <thead>\n",
       "    <tr style=\"text-align: right;\">\n",
       "      <th></th>\n",
       "      <th>单脉冲能量nmJ</th>\n",
       "      <th>行进速度𝑣𝑟mm/s</th>\n",
       "      <th>脉冲频率fKHz</th>\n",
       "      <th>运行功率𝑃𝑟𝑤𝑜W</th>\n",
       "    </tr>\n",
       "  </thead>\n",
       "  <tbody>\n",
       "    <tr>\n",
       "      <th>0</th>\n",
       "      <td>50</td>\n",
       "      <td>10</td>\n",
       "      <td>10</td>\n",
       "      <td>462.08</td>\n",
       "    </tr>\n",
       "    <tr>\n",
       "      <th>1</th>\n",
       "      <td>60</td>\n",
       "      <td>10</td>\n",
       "      <td>10</td>\n",
       "      <td>470.44</td>\n",
       "    </tr>\n",
       "    <tr>\n",
       "      <th>2</th>\n",
       "      <td>70</td>\n",
       "      <td>10</td>\n",
       "      <td>10</td>\n",
       "      <td>477.01</td>\n",
       "    </tr>\n",
       "    <tr>\n",
       "      <th>3</th>\n",
       "      <td>80</td>\n",
       "      <td>10</td>\n",
       "      <td>10</td>\n",
       "      <td>483.02</td>\n",
       "    </tr>\n",
       "    <tr>\n",
       "      <th>4</th>\n",
       "      <td>90</td>\n",
       "      <td>10</td>\n",
       "      <td>10</td>\n",
       "      <td>483.06</td>\n",
       "    </tr>\n",
       "    <tr>\n",
       "      <th>5</th>\n",
       "      <td>100</td>\n",
       "      <td>10</td>\n",
       "      <td>10</td>\n",
       "      <td>476.25</td>\n",
       "    </tr>\n",
       "    <tr>\n",
       "      <th>6</th>\n",
       "      <td>100</td>\n",
       "      <td>10</td>\n",
       "      <td>5</td>\n",
       "      <td>467.53</td>\n",
       "    </tr>\n",
       "    <tr>\n",
       "      <th>7</th>\n",
       "      <td>100</td>\n",
       "      <td>10</td>\n",
       "      <td>6</td>\n",
       "      <td>458.59</td>\n",
       "    </tr>\n",
       "    <tr>\n",
       "      <th>8</th>\n",
       "      <td>100</td>\n",
       "      <td>10</td>\n",
       "      <td>7</td>\n",
       "      <td>464.75</td>\n",
       "    </tr>\n",
       "    <tr>\n",
       "      <th>9</th>\n",
       "      <td>100</td>\n",
       "      <td>10</td>\n",
       "      <td>8</td>\n",
       "      <td>468.97</td>\n",
       "    </tr>\n",
       "    <tr>\n",
       "      <th>10</th>\n",
       "      <td>100</td>\n",
       "      <td>10</td>\n",
       "      <td>9</td>\n",
       "      <td>471.25</td>\n",
       "    </tr>\n",
       "    <tr>\n",
       "      <th>11</th>\n",
       "      <td>100</td>\n",
       "      <td>10</td>\n",
       "      <td>10</td>\n",
       "      <td>457.80</td>\n",
       "    </tr>\n",
       "    <tr>\n",
       "      <th>12</th>\n",
       "      <td>100</td>\n",
       "      <td>7</td>\n",
       "      <td>10</td>\n",
       "      <td>466.16</td>\n",
       "    </tr>\n",
       "    <tr>\n",
       "      <th>13</th>\n",
       "      <td>100</td>\n",
       "      <td>8</td>\n",
       "      <td>10</td>\n",
       "      <td>467.50</td>\n",
       "    </tr>\n",
       "    <tr>\n",
       "      <th>14</th>\n",
       "      <td>100</td>\n",
       "      <td>9</td>\n",
       "      <td>10</td>\n",
       "      <td>456.89</td>\n",
       "    </tr>\n",
       "    <tr>\n",
       "      <th>15</th>\n",
       "      <td>100</td>\n",
       "      <td>10</td>\n",
       "      <td>10</td>\n",
       "      <td>486.52</td>\n",
       "    </tr>\n",
       "    <tr>\n",
       "      <th>16</th>\n",
       "      <td>100</td>\n",
       "      <td>11</td>\n",
       "      <td>10</td>\n",
       "      <td>479.82</td>\n",
       "    </tr>\n",
       "    <tr>\n",
       "      <th>17</th>\n",
       "      <td>100</td>\n",
       "      <td>12</td>\n",
       "      <td>10</td>\n",
       "      <td>470.45</td>\n",
       "    </tr>\n",
       "  </tbody>\n",
       "</table>\n",
       "</div>"
      ],
      "text/plain": [
       "    单脉冲能量nmJ  行进速度𝑣𝑟mm/s  脉冲频率fKHz  运行功率𝑃𝑟𝑤𝑜W\n",
       "0         50          10        10     462.08\n",
       "1         60          10        10     470.44\n",
       "2         70          10        10     477.01\n",
       "3         80          10        10     483.02\n",
       "4         90          10        10     483.06\n",
       "5        100          10        10     476.25\n",
       "6        100          10         5     467.53\n",
       "7        100          10         6     458.59\n",
       "8        100          10         7     464.75\n",
       "9        100          10         8     468.97\n",
       "10       100          10         9     471.25\n",
       "11       100          10        10     457.80\n",
       "12       100           7        10     466.16\n",
       "13       100           8        10     467.50\n",
       "14       100           9        10     456.89\n",
       "15       100          10        10     486.52\n",
       "16       100          11        10     479.82\n",
       "17       100          12        10     470.45"
      ]
     },
     "execution_count": 195,
     "metadata": {},
     "output_type": "execute_result"
    }
   ],
   "source": [
    "data = pd.read_excel(xfilename)\n",
    "data = pd.read_excel(xfilename, usecols=range(1, len(data.columns)))\n",
    "data"
   ]
  },
  {
   "cell_type": "code",
   "execution_count": 196,
   "metadata": {},
   "outputs": [
    {
     "data": {
      "text/plain": [
       "['单脉冲能量nmJ', '行进速度𝑣𝑟mm/s', '脉冲频率fKHz', '运行功率𝑃𝑟𝑤𝑜W']"
      ]
     },
     "execution_count": 196,
     "metadata": {},
     "output_type": "execute_result"
    }
   ],
   "source": [
    "list(data.columns)\n"
   ]
  },
  {
   "cell_type": "code",
   "execution_count": 197,
   "metadata": {},
   "outputs": [
    {
     "name": "stderr",
     "output_type": "stream",
     "text": [
      "c:\\Users\\mr136\\AppData\\Local\\Programs\\Python\\Python310\\lib\\site-packages\\seaborn\\axisgrid.py:118: UserWarning: Glyph 119875 (\\N{MATHEMATICAL ITALIC CAPITAL P}) missing from current font.\n",
      "  self._figure.tight_layout(*args, **kwargs)\n",
      "c:\\Users\\mr136\\AppData\\Local\\Programs\\Python\\Python310\\lib\\site-packages\\seaborn\\axisgrid.py:118: UserWarning: Glyph 119903 (\\N{MATHEMATICAL ITALIC SMALL R}) missing from current font.\n",
      "  self._figure.tight_layout(*args, **kwargs)\n",
      "c:\\Users\\mr136\\AppData\\Local\\Programs\\Python\\Python310\\lib\\site-packages\\seaborn\\axisgrid.py:118: UserWarning: Glyph 119908 (\\N{MATHEMATICAL ITALIC SMALL W}) missing from current font.\n",
      "  self._figure.tight_layout(*args, **kwargs)\n",
      "c:\\Users\\mr136\\AppData\\Local\\Programs\\Python\\Python310\\lib\\site-packages\\seaborn\\axisgrid.py:118: UserWarning: Glyph 119900 (\\N{MATHEMATICAL ITALIC SMALL O}) missing from current font.\n",
      "  self._figure.tight_layout(*args, **kwargs)\n",
      "c:\\Users\\mr136\\AppData\\Local\\Programs\\Python\\Python310\\lib\\site-packages\\seaborn\\axisgrid.py:118: UserWarning: Glyph 119907 (\\N{MATHEMATICAL ITALIC SMALL V}) missing from current font.\n",
      "  self._figure.tight_layout(*args, **kwargs)\n"
     ]
    },
    {
     "data": {
      "text/plain": [
       "<seaborn.axisgrid.PairGrid at 0x1ed80f236d0>"
      ]
     },
     "execution_count": 197,
     "metadata": {},
     "output_type": "execute_result"
    },
    {
     "name": "stderr",
     "output_type": "stream",
     "text": [
      "C:\\Users\\mr136\\AppData\\Roaming\\Python\\Python310\\site-packages\\IPython\\core\\events.py:89: UserWarning: Glyph 119875 (\\N{MATHEMATICAL ITALIC CAPITAL P}) missing from current font.\n",
      "  func(*args, **kwargs)\n",
      "C:\\Users\\mr136\\AppData\\Roaming\\Python\\Python310\\site-packages\\IPython\\core\\events.py:89: UserWarning: Glyph 119903 (\\N{MATHEMATICAL ITALIC SMALL R}) missing from current font.\n",
      "  func(*args, **kwargs)\n",
      "C:\\Users\\mr136\\AppData\\Roaming\\Python\\Python310\\site-packages\\IPython\\core\\events.py:89: UserWarning: Glyph 119908 (\\N{MATHEMATICAL ITALIC SMALL W}) missing from current font.\n",
      "  func(*args, **kwargs)\n",
      "C:\\Users\\mr136\\AppData\\Roaming\\Python\\Python310\\site-packages\\IPython\\core\\events.py:89: UserWarning: Glyph 119900 (\\N{MATHEMATICAL ITALIC SMALL O}) missing from current font.\n",
      "  func(*args, **kwargs)\n",
      "C:\\Users\\mr136\\AppData\\Roaming\\Python\\Python310\\site-packages\\IPython\\core\\events.py:89: UserWarning: Glyph 119907 (\\N{MATHEMATICAL ITALIC SMALL V}) missing from current font.\n",
      "  func(*args, **kwargs)\n",
      "C:\\Users\\mr136\\AppData\\Roaming\\Python\\Python310\\site-packages\\IPython\\core\\pylabtools.py:151: UserWarning: Glyph 119875 (\\N{MATHEMATICAL ITALIC CAPITAL P}) missing from current font.\n",
      "  fig.canvas.print_figure(bytes_io, **kw)\n",
      "C:\\Users\\mr136\\AppData\\Roaming\\Python\\Python310\\site-packages\\IPython\\core\\pylabtools.py:151: UserWarning: Glyph 119903 (\\N{MATHEMATICAL ITALIC SMALL R}) missing from current font.\n",
      "  fig.canvas.print_figure(bytes_io, **kw)\n",
      "C:\\Users\\mr136\\AppData\\Roaming\\Python\\Python310\\site-packages\\IPython\\core\\pylabtools.py:151: UserWarning: Glyph 119908 (\\N{MATHEMATICAL ITALIC SMALL W}) missing from current font.\n",
      "  fig.canvas.print_figure(bytes_io, **kw)\n",
      "C:\\Users\\mr136\\AppData\\Roaming\\Python\\Python310\\site-packages\\IPython\\core\\pylabtools.py:151: UserWarning: Glyph 119900 (\\N{MATHEMATICAL ITALIC SMALL O}) missing from current font.\n",
      "  fig.canvas.print_figure(bytes_io, **kw)\n",
      "C:\\Users\\mr136\\AppData\\Roaming\\Python\\Python310\\site-packages\\IPython\\core\\pylabtools.py:151: UserWarning: Glyph 119907 (\\N{MATHEMATICAL ITALIC SMALL V}) missing from current font.\n",
      "  fig.canvas.print_figure(bytes_io, **kw)\n"
     ]
    },
    {
     "data": {
      "image/png": "[encoded data removed]",
      "text/plain": [
       "<Figure size 750x250 with 3 Axes>"
      ]
     },
     "metadata": {},
     "output_type": "display_data"
    }
   ],
   "source": [
    "#观察各个feature与P(W)的关系\n",
    "import seaborn as sns\n",
    "sns.pairplot(data, x_vars=list(data.columns)[:-1], y_vars=list(data.columns)[-1])\n"
   ]
  },
  {
   "cell_type": "code",
   "execution_count": 198,
   "metadata": {},
   "outputs": [
    {
     "data": {
      "text/plain": [
       "1.4142135623730951"
      ]
     },
     "execution_count": 198,
     "metadata": {},
     "output_type": "execute_result"
    }
   ],
   "source": [
    "a = np.array([1,2,3,4,5])\n",
    "np.std(a)"
   ]
  },
  {
   "cell_type": "code",
   "execution_count": 199,
   "metadata": {},
   "outputs": [],
   "source": [
    "#搭建模型网络\n",
    "class Pw_Model(nn.Module):\n",
    "    def __init__(self, input_dim):\n",
    "        super(Pw_Model, self).__init__()\n",
    "        self.layers = nn.Sequential(\n",
    "            nn.Linear(input_dim, 128),\n",
    "            nn.ReLU(),\n",
    "            nn.Linear(128, 128),\n",
    "            nn.ReLU(),\n",
    "            nn.Linear(128, 1)\n",
    "        )\n",
    "\n",
    "    def forward(self, x):\n",
    "        x = self.layers(x)\n",
    "        x = x.squeeze(1)  # (B, 1) -> (B)\n",
    "        return x\n",
    "    \n",
    "#数据加载转换tensor类\n",
    "class Pw_Dataset(Dataset):\n",
    "    '''\n",
    "    x: Features.\n",
    "    y: Targets, if none, do prediction.\n",
    "    '''\n",
    "    def __init__(self, x, y=None):\n",
    "        if y is None:\n",
    "            self.y = y\n",
    "        else:\n",
    "            self.y = torch.FloatTensor(y)\n",
    "        self.x = torch.FloatTensor(x)\n",
    "\n",
    "    def __getitem__(self, idx):\n",
    "        if self.y is None:\n",
    "            return self.x[idx]\n",
    "        else:\n",
    "            return self.x[idx], self.y[idx]\n",
    "\n",
    "    def __len__(self):\n",
    "        return len(self.x)\n"
   ]
  },
  {
   "cell_type": "code",
   "execution_count": 200,
   "metadata": {},
   "outputs": [],
   "source": [
    "#hyperparameters配置\n",
    "device = 'cuda' if torch.cuda.is_available() else 'cpu'\n",
    "config = {\n",
    "    'n_epochs': 1000,     # Number of epochs.\n",
    "    'batch_size': 256,\n",
    "    'learning_rate': 1e-4,\n",
    "}\n"
   ]
  },
  {
   "cell_type": "code",
   "execution_count": 201,
   "metadata": {},
   "outputs": [
    {
     "data": {
      "text/html": [
       "<div>\n",
       "<style scoped>\n",
       "    .dataframe tbody tr th:only-of-type {\n",
       "        vertical-align: middle;\n",
       "    }\n",
       "\n",
       "    .dataframe tbody tr th {\n",
       "        vertical-align: top;\n",
       "    }\n",
       "\n",
       "    .dataframe thead th {\n",
       "        text-align: right;\n",
       "    }\n",
       "</style>\n",
       "<table border=\"1\" class=\"dataframe\">\n",
       "  <thead>\n",
       "    <tr style=\"text-align: right;\">\n",
       "      <th></th>\n",
       "      <th>单脉冲能量nmJ</th>\n",
       "      <th>行进速度𝑣𝑟mm/s</th>\n",
       "      <th>脉冲频率fKHz</th>\n",
       "      <th>运行功率𝑃𝑟𝑤𝑜W</th>\n",
       "    </tr>\n",
       "  </thead>\n",
       "  <tbody>\n",
       "    <tr>\n",
       "      <th>0</th>\n",
       "      <td>-2.711631</td>\n",
       "      <td>0.164399</td>\n",
       "      <td>0.542326</td>\n",
       "      <td>-0.960990</td>\n",
       "    </tr>\n",
       "    <tr>\n",
       "      <th>1</th>\n",
       "      <td>-2.060839</td>\n",
       "      <td>0.164399</td>\n",
       "      <td>0.542326</td>\n",
       "      <td>-0.001084</td>\n",
       "    </tr>\n",
       "    <tr>\n",
       "      <th>2</th>\n",
       "      <td>-1.410048</td>\n",
       "      <td>0.164399</td>\n",
       "      <td>0.542326</td>\n",
       "      <td>0.753291</td>\n",
       "    </tr>\n",
       "    <tr>\n",
       "      <th>3</th>\n",
       "      <td>-0.759257</td>\n",
       "      <td>0.164399</td>\n",
       "      <td>0.542326</td>\n",
       "      <td>1.443367</td>\n",
       "    </tr>\n",
       "    <tr>\n",
       "      <th>4</th>\n",
       "      <td>-0.108465</td>\n",
       "      <td>0.164399</td>\n",
       "      <td>0.542326</td>\n",
       "      <td>1.447960</td>\n",
       "    </tr>\n",
       "    <tr>\n",
       "      <th>5</th>\n",
       "      <td>0.542326</td>\n",
       "      <td>0.164399</td>\n",
       "      <td>0.542326</td>\n",
       "      <td>0.666027</td>\n",
       "    </tr>\n",
       "    <tr>\n",
       "      <th>6</th>\n",
       "      <td>0.542326</td>\n",
       "      <td>0.164399</td>\n",
       "      <td>-2.711631</td>\n",
       "      <td>-0.335214</td>\n",
       "    </tr>\n",
       "    <tr>\n",
       "      <th>7</th>\n",
       "      <td>0.542326</td>\n",
       "      <td>0.164399</td>\n",
       "      <td>-2.060839</td>\n",
       "      <td>-1.361717</td>\n",
       "    </tr>\n",
       "    <tr>\n",
       "      <th>8</th>\n",
       "      <td>0.542326</td>\n",
       "      <td>0.164399</td>\n",
       "      <td>-1.410048</td>\n",
       "      <td>-0.654418</td>\n",
       "    </tr>\n",
       "    <tr>\n",
       "      <th>9</th>\n",
       "      <td>0.542326</td>\n",
       "      <td>0.164399</td>\n",
       "      <td>-0.759257</td>\n",
       "      <td>-0.169872</td>\n",
       "    </tr>\n",
       "    <tr>\n",
       "      <th>10</th>\n",
       "      <td>0.542326</td>\n",
       "      <td>0.164399</td>\n",
       "      <td>-0.108465</td>\n",
       "      <td>0.091921</td>\n",
       "    </tr>\n",
       "    <tr>\n",
       "      <th>11</th>\n",
       "      <td>0.542326</td>\n",
       "      <td>0.164399</td>\n",
       "      <td>0.542326</td>\n",
       "      <td>-1.452426</td>\n",
       "    </tr>\n",
       "    <tr>\n",
       "      <th>12</th>\n",
       "      <td>0.542326</td>\n",
       "      <td>-2.794783</td>\n",
       "      <td>0.542326</td>\n",
       "      <td>-0.492520</td>\n",
       "    </tr>\n",
       "    <tr>\n",
       "      <th>13</th>\n",
       "      <td>0.542326</td>\n",
       "      <td>-1.808389</td>\n",
       "      <td>0.542326</td>\n",
       "      <td>-0.338659</td>\n",
       "    </tr>\n",
       "    <tr>\n",
       "      <th>14</th>\n",
       "      <td>0.542326</td>\n",
       "      <td>-0.821995</td>\n",
       "      <td>0.542326</td>\n",
       "      <td>-1.556913</td>\n",
       "    </tr>\n",
       "    <tr>\n",
       "      <th>15</th>\n",
       "      <td>0.542326</td>\n",
       "      <td>0.164399</td>\n",
       "      <td>0.542326</td>\n",
       "      <td>1.845242</td>\n",
       "    </tr>\n",
       "    <tr>\n",
       "      <th>16</th>\n",
       "      <td>0.542326</td>\n",
       "      <td>1.150793</td>\n",
       "      <td>0.542326</td>\n",
       "      <td>1.075939</td>\n",
       "    </tr>\n",
       "    <tr>\n",
       "      <th>17</th>\n",
       "      <td>0.542326</td>\n",
       "      <td>2.137187</td>\n",
       "      <td>0.542326</td>\n",
       "      <td>0.000064</td>\n",
       "    </tr>\n",
       "  </tbody>\n",
       "</table>\n",
       "</div>"
      ],
      "text/plain": [
       "    单脉冲能量nmJ  行进速度𝑣𝑟mm/s  脉冲频率fKHz  运行功率𝑃𝑟𝑤𝑜W\n",
       "0  -2.711631    0.164399  0.542326  -0.960990\n",
       "1  -2.060839    0.164399  0.542326  -0.001084\n",
       "2  -1.410048    0.164399  0.542326   0.753291\n",
       "3  -0.759257    0.164399  0.542326   1.443367\n",
       "4  -0.108465    0.164399  0.542326   1.447960\n",
       "5   0.542326    0.164399  0.542326   0.666027\n",
       "6   0.542326    0.164399 -2.711631  -0.335214\n",
       "7   0.542326    0.164399 -2.060839  -1.361717\n",
       "8   0.542326    0.164399 -1.410048  -0.654418\n",
       "9   0.542326    0.164399 -0.759257  -0.169872\n",
       "10  0.542326    0.164399 -0.108465   0.091921\n",
       "11  0.542326    0.164399  0.542326  -1.452426\n",
       "12  0.542326   -2.794783  0.542326  -0.492520\n",
       "13  0.542326   -1.808389  0.542326  -0.338659\n",
       "14  0.542326   -0.821995  0.542326  -1.556913\n",
       "15  0.542326    0.164399  0.542326   1.845242\n",
       "16  0.542326    1.150793  0.542326   1.075939\n",
       "17  0.542326    2.137187  0.542326   0.000064"
      ]
     },
     "execution_count": 201,
     "metadata": {},
     "output_type": "execute_result"
    }
   ],
   "source": [
    "#标准化操作示例\n",
    "data_normalized = data\n",
    "data_normalized.apply(lambda x: (x - np.mean(x)) / (np.std(x)))\n"
   ]
  },
  {
   "cell_type": "code",
   "execution_count": 202,
   "metadata": {},
   "outputs": [],
   "source": [
    "#初始化数据\n",
    "#打乱\n",
    "data = data.sample(frac=1.0)\n",
    "#标准化(理论上先划分再归一化，这里偷懒了，对于data_1不归一化效果也很好，因为已经做过量纲处理了)\n",
    "data_normalized = data.apply(lambda x: (x - np.mean(x)) / (np.std(x)))\n",
    "#划分训练集和验证集\n",
    "divide = int(data.shape[0]*0.85)\n",
    "train_data, test_data = data_normalized.iloc[:divide], data_normalized.iloc[divide:data.shape[0]]\n",
    "train_data, test_data = train_data.values,test_data.values\n",
    "\n",
    "train_y , test_y = train_data[:,-1],test_data[:,-1]\n",
    "train_x , test_x = train_data[:,:-1],test_data[:,:-1]\n",
    "\n",
    "train_dataset, test_dataset = Pw_Dataset(\n",
    "    train_x, train_y), Pw_Dataset(test_x, test_y)\n",
    "train_loader = DataLoader(\n",
    "    train_dataset, batch_size=config['batch_size'], shuffle=True, pin_memory=True)\n",
    "test_loader = DataLoader(\n",
    "    test_dataset, batch_size=config['batch_size'], shuffle=False, pin_memory=True)\n"
   ]
  },
  {
   "cell_type": "code",
   "execution_count": 203,
   "metadata": {},
   "outputs": [],
   "source": [
    "#优化函数，损失函数，数据迁移\n",
    "model = Pw_Model(input_dim=train_x.shape[1]).to(device)\n",
    "criterion = nn.MSELoss(reduction='mean')\n",
    "optimizer = torch.optim.Adam(\n",
    "    model.parameters(), lr=config['learning_rate'])\n",
    "\n"
   ]
  },
  {
   "cell_type": "code",
   "execution_count": 204,
   "metadata": {},
   "outputs": [],
   "source": [
    "#训练\n",
    "def trainer(train_loader, model, config, device):\n",
    "    n_epochs,step = config['n_epochs'],0\n",
    "    loss_record = []\n",
    "    for epoch in range(n_epochs):\n",
    "        model.train()  # Set your model to train mode.\n",
    "        # tqdm is a package to visualize your training progress.\n",
    "        train_pbar = tqdm(train_loader, leave=False)\n",
    "        for x, y in train_pbar:\n",
    "            optimizer.zero_grad()               # Set gradient to zero.\n",
    "            x, y = x.to(device), y.to(device)   # Move your data to device.\n",
    "            pred = model(x)\n",
    "            loss = criterion(pred, y)\n",
    "            # Compute gradient(backpropagation).\n",
    "            loss.backward()\n",
    "            optimizer.step()                    # Update parameters.\n",
    "            step += 1\n",
    "            loss_record.append(loss.detach().item())\n",
    "        mean_train_loss = sum(loss_record)/len(loss_record)\n",
    "        if(epoch+1)%50==0:\n",
    "            print(f'Epoch[{epoch+1}/{n_epochs}]: Train loss: {mean_train_loss: .8f}')\n",
    "    return loss_record\n"
   ]
  },
  {
   "cell_type": "code",
   "execution_count": 205,
   "metadata": {},
   "outputs": [],
   "source": [
    "#测试\n",
    "def test(test_loader,model,device):\n",
    "    model.eval()  # Set your model to evaluation mode.\n",
    "    loss_record = []\n",
    "    predict = []\n",
    "    for x, y in test_loader:\n",
    "        x, y = x.to(device), y.to(device)\n",
    "        with torch.no_grad():\n",
    "            pred = model(x)\n",
    "            predict.append(pred)\n",
    "            loss = criterion(pred, y)\n",
    "        loss_record.append(loss.item())\n",
    "    mean_test_loss = sum(loss_record)/len(loss_record)\n",
    "    with open(\"./renderings/test_score.txt\", \"a\") as file:\n",
    "        file.write(figurename[number]+\"模型\\n\")\n",
    "        file.write(f'test loss: {mean_test_loss:.8f}\\n')\n",
    "    return predict\n"
   ]
  },
  {
   "cell_type": "code",
   "execution_count": 206,
   "metadata": {},
   "outputs": [
    {
     "name": "stderr",
     "output_type": "stream",
     "text": [
      "                                     \r"
     ]
    },
    {
     "name": "stdout",
     "output_type": "stream",
     "text": [
      "Epoch[50/1000]: Train loss:  0.92260206\n"
     ]
    },
    {
     "name": "stderr",
     "output_type": "stream",
     "text": [
      "                                     \r"
     ]
    },
    {
     "name": "stdout",
     "output_type": "stream",
     "text": [
      "Epoch[100/1000]: Train loss:  0.85225960\n"
     ]
    },
    {
     "name": "stderr",
     "output_type": "stream",
     "text": [
      "                                     \r"
     ]
    },
    {
     "name": "stdout",
     "output_type": "stream",
     "text": [
      "Epoch[150/1000]: Train loss:  0.80719887\n"
     ]
    },
    {
     "name": "stderr",
     "output_type": "stream",
     "text": [
      "                                     \r"
     ]
    },
    {
     "name": "stdout",
     "output_type": "stream",
     "text": [
      "Epoch[200/1000]: Train loss:  0.77183903\n"
     ]
    },
    {
     "name": "stderr",
     "output_type": "stream",
     "text": [
      "                                     \r"
     ]
    },
    {
     "name": "stdout",
     "output_type": "stream",
     "text": [
      "Epoch[250/1000]: Train loss:  0.74066053\n"
     ]
    },
    {
     "name": "stderr",
     "output_type": "stream",
     "text": [
      "                                     \r"
     ]
    },
    {
     "name": "stdout",
     "output_type": "stream",
     "text": [
      "Epoch[300/1000]: Train loss:  0.71177971\n"
     ]
    },
    {
     "name": "stderr",
     "output_type": "stream",
     "text": [
      "                                     \r"
     ]
    },
    {
     "name": "stdout",
     "output_type": "stream",
     "text": [
      "Epoch[350/1000]: Train loss:  0.68487404\n"
     ]
    },
    {
     "name": "stderr",
     "output_type": "stream",
     "text": [
      "                                     \r"
     ]
    },
    {
     "name": "stdout",
     "output_type": "stream",
     "text": [
      "Epoch[400/1000]: Train loss:  0.66029192\n"
     ]
    },
    {
     "name": "stderr",
     "output_type": "stream",
     "text": [
      "                                     \r"
     ]
    },
    {
     "name": "stdout",
     "output_type": "stream",
     "text": [
      "Epoch[450/1000]: Train loss:  0.63842211\n"
     ]
    },
    {
     "name": "stderr",
     "output_type": "stream",
     "text": [
      "                                     \r"
     ]
    },
    {
     "name": "stdout",
     "output_type": "stream",
     "text": [
      "Epoch[500/1000]: Train loss:  0.61922624\n"
     ]
    },
    {
     "name": "stderr",
     "output_type": "stream",
     "text": [
      "                                     \r"
     ]
    },
    {
     "name": "stdout",
     "output_type": "stream",
     "text": [
      "Epoch[550/1000]: Train loss:  0.60239636\n"
     ]
    },
    {
     "name": "stderr",
     "output_type": "stream",
     "text": [
      "                                     \r"
     ]
    },
    {
     "name": "stdout",
     "output_type": "stream",
     "text": [
      "Epoch[600/1000]: Train loss:  0.58764833\n"
     ]
    },
    {
     "name": "stderr",
     "output_type": "stream",
     "text": [
      "                                     \r"
     ]
    },
    {
     "name": "stdout",
     "output_type": "stream",
     "text": [
      "Epoch[650/1000]: Train loss:  0.57469509\n"
     ]
    },
    {
     "name": "stderr",
     "output_type": "stream",
     "text": [
      "                                     \r"
     ]
    },
    {
     "name": "stdout",
     "output_type": "stream",
     "text": [
      "Epoch[700/1000]: Train loss:  0.56325353\n"
     ]
    },
    {
     "name": "stderr",
     "output_type": "stream",
     "text": [
      "                                     \r"
     ]
    },
    {
     "name": "stdout",
     "output_type": "stream",
     "text": [
      "Epoch[750/1000]: Train loss:  0.55307001\n"
     ]
    },
    {
     "name": "stderr",
     "output_type": "stream",
     "text": [
      "                                     \r"
     ]
    },
    {
     "name": "stdout",
     "output_type": "stream",
     "text": [
      "Epoch[800/1000]: Train loss:  0.54393161\n"
     ]
    },
    {
     "name": "stderr",
     "output_type": "stream",
     "text": [
      "                                     \r"
     ]
    },
    {
     "name": "stdout",
     "output_type": "stream",
     "text": [
      "Epoch[850/1000]: Train loss:  0.53562249\n"
     ]
    },
    {
     "name": "stderr",
     "output_type": "stream",
     "text": [
      "                                     \r"
     ]
    },
    {
     "name": "stdout",
     "output_type": "stream",
     "text": [
      "Epoch[900/1000]: Train loss:  0.52804289\n"
     ]
    },
    {
     "name": "stderr",
     "output_type": "stream",
     "text": [
      "                                     \r"
     ]
    },
    {
     "name": "stdout",
     "output_type": "stream",
     "text": [
      "Epoch[950/1000]: Train loss:  0.52109858\n"
     ]
    },
    {
     "name": "stderr",
     "output_type": "stream",
     "text": [
      "                                     \r"
     ]
    },
    {
     "name": "stdout",
     "output_type": "stream",
     "text": [
      "Epoch[1000/1000]: Train loss:  0.51470277\n"
     ]
    },
    {
     "data": {
      "image/png": "[encoded data removed]",
      "text/plain": [
       "<Figure size 640x480 with 1 Axes>"
      ]
     },
     "metadata": {},
     "output_type": "display_data"
    }
   ],
   "source": [
    "y_train_loss = trainer(train_loader, model, config, device)      # loss值，即y轴\n",
    "x_train_loss = range(len(y_train_loss))\t\t\t # loss的数量，即x轴\n",
    "plt.figure()\n",
    "\n",
    "# 去除顶部和右边框框\n",
    "ax = plt.axes()\n",
    "ax.spines['top'].set_visible(False)\n",
    "ax.spines['right'].set_visible(False)\n",
    "plt.rcParams[\"font.sans-serif\"] = [\"SimHei\"]  # 设置字体\n",
    "plt.rcParams[\"axes.unicode_minus\"] = False  # 正常显示负号\n",
    "\n",
    "plt.xlabel('iters')    # x轴标签\n",
    "plt.ylabel('loss')     # y轴标签\n",
    "\n",
    "# 以x_train_loss为横坐标，y_train_loss为纵坐标，曲线宽度为1，实线，增加标签，训练损失，\n",
    "plt.plot(x_train_loss, y_train_loss, linewidth=1,\n",
    "         linestyle=\"solid\", label=\"train loss\")\n",
    "plt.legend()\n",
    "plt.title(figurename[number]+\"损失函数\")\n",
    "plt.savefig(\"./renderings/\"+figurename[number]+\"损失函数\")\n",
    "plt.show()\n"
   ]
  },
  {
   "cell_type": "code",
   "execution_count": 207,
   "metadata": {},
   "outputs": [
    {
     "data": {
      "text/plain": [
       "[tensor([ 1.4537, -0.6379, -0.9987], device='cuda:0')]"
      ]
     },
     "execution_count": 207,
     "metadata": {},
     "output_type": "execute_result"
    }
   ],
   "source": [
    "predict = test(test_loader,model,device)\n",
    "predict"
   ]
  },
  {
   "cell_type": "code",
   "execution_count": 208,
   "metadata": {},
   "outputs": [],
   "source": [
    "# %reload_ext tensorboard\n",
    "# %tensorboard --logdir=./runs/"
   ]
  },
  {
   "cell_type": "code",
   "execution_count": 209,
   "metadata": {},
   "outputs": [
    {
     "data": {
      "image/png": "[encoded data removed]",
      "text/plain": [
       "<Figure size 640x480 with 1 Axes>"
      ]
     },
     "metadata": {},
     "output_type": "display_data"
    },
    {
     "name": "stdout",
     "output_type": "stream",
     "text": [
      "0.8600559448783189\n"
     ]
    }
   ],
   "source": [
    "from sklearn.metrics import r2_score\n",
    "real= np.array(test_y)\n",
    "compute = predict[0].cuda().cpu().numpy()\n",
    "#测试数据散点图\n",
    "plt.scatter(real, compute, color='red', label=\"test data\")\n",
    "#添加图标标签\n",
    "plt.legend(loc=2)\n",
    "plt.xlabel(\"Hours\")\n",
    "plt.ylabel(\"Score\")\n",
    "#显示图像\n",
    "save_fig = \"./score/\"+figurename[number]\n",
    "plt.savefig(save_fig+\"score\")\n",
    "plt.show()\n",
    "#计算拟合优度\n",
    "score = r2_score(real, compute)\n",
    "print(score)\n"
   ]
  },
  {
   "cell_type": "code",
   "execution_count": 210,
   "metadata": {},
   "outputs": [],
   "source": [
    "save_name = \"./save/\"+str[number]+\".pt\"\n",
    "torch.save(model,save_name)\n"
   ]
  }
 ],
 "metadata": {
  "kernelspec": {
   "display_name": "Python 3",
   "language": "python",
   "name": "python3"
  },
  "language_info": {
   "codemirror_mode": {
    "name": "ipython",
    "version": 3
   },
   "file_extension": ".py",
   "mimetype": "text/x-python",
   "name": "python",
   "nbconvert_exporter": "python",
   "pygments_lexer": "ipython3",
   "version": "3.10.8"
  },
  "orig_nbformat": 4
 },
 "nbformat": 4,
 "nbformat_minor": 2
}
