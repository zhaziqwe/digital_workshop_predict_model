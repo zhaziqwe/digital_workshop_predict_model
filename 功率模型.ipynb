{
 "cells": [
  {
   "attachments": {},
   "cell_type": "markdown",
   "metadata": {},
   "source": [
    "### 功率模型\n"
   ]
  },
  {
   "cell_type": "code",
   "execution_count": 241,
   "metadata": {},
   "outputs": [],
   "source": [
    "\n",
    "#导入基础库\n",
    "import numpy as np\n",
    "import pandas as pd\n",
    "import torch\n",
    "from matplotlib import pyplot as plt\n",
    "import torch.nn as nn\n",
    "from torch.utils.data import Dataset, DataLoader\n",
    "import math\n",
    "from tqdm import tqdm\n"
   ]
  },
  {
   "cell_type": "code",
   "execution_count": 242,
   "metadata": {},
   "outputs": [
    {
     "data": {
      "text/html": [
       "<div>\n",
       "<style scoped>\n",
       "    .dataframe tbody tr th:only-of-type {\n",
       "        vertical-align: middle;\n",
       "    }\n",
       "\n",
       "    .dataframe tbody tr th {\n",
       "        vertical-align: top;\n",
       "    }\n",
       "\n",
       "    .dataframe thead th {\n",
       "        text-align: right;\n",
       "    }\n",
       "</style>\n",
       "<table border=\"1\" class=\"dataframe\">\n",
       "  <thead>\n",
       "    <tr style=\"text-align: right;\">\n",
       "      <th></th>\n",
       "      <th>n(r/min)</th>\n",
       "      <th>f(mm/r)</th>\n",
       "      <th>ap(mm)</th>\n",
       "      <th>MRR(mm3/s)</th>\n",
       "      <th>P(W)</th>\n",
       "    </tr>\n",
       "  </thead>\n",
       "  <tbody>\n",
       "    <tr>\n",
       "      <th>1</th>\n",
       "      <td>500</td>\n",
       "      <td>140</td>\n",
       "      <td>2.0</td>\n",
       "      <td>9</td>\n",
       "      <td>0.93</td>\n",
       "    </tr>\n",
       "    <tr>\n",
       "      <th>2</th>\n",
       "      <td>900</td>\n",
       "      <td>140</td>\n",
       "      <td>2.0</td>\n",
       "      <td>9</td>\n",
       "      <td>1.00</td>\n",
       "    </tr>\n",
       "    <tr>\n",
       "      <th>3</th>\n",
       "      <td>1300</td>\n",
       "      <td>140</td>\n",
       "      <td>2.0</td>\n",
       "      <td>9</td>\n",
       "      <td>1.10</td>\n",
       "    </tr>\n",
       "    <tr>\n",
       "      <th>4</th>\n",
       "      <td>1700</td>\n",
       "      <td>140</td>\n",
       "      <td>2.0</td>\n",
       "      <td>9</td>\n",
       "      <td>1.19</td>\n",
       "    </tr>\n",
       "    <tr>\n",
       "      <th>5</th>\n",
       "      <td>2100</td>\n",
       "      <td>140</td>\n",
       "      <td>2.0</td>\n",
       "      <td>9</td>\n",
       "      <td>1.29</td>\n",
       "    </tr>\n",
       "    <tr>\n",
       "      <th>6</th>\n",
       "      <td>500</td>\n",
       "      <td>180</td>\n",
       "      <td>2.0</td>\n",
       "      <td>3</td>\n",
       "      <td>0.89</td>\n",
       "    </tr>\n",
       "    <tr>\n",
       "      <th>7</th>\n",
       "      <td>900</td>\n",
       "      <td>180</td>\n",
       "      <td>2.0</td>\n",
       "      <td>3</td>\n",
       "      <td>0.92</td>\n",
       "    </tr>\n",
       "    <tr>\n",
       "      <th>8</th>\n",
       "      <td>1300</td>\n",
       "      <td>180</td>\n",
       "      <td>2.0</td>\n",
       "      <td>3</td>\n",
       "      <td>1.03</td>\n",
       "    </tr>\n",
       "    <tr>\n",
       "      <th>9</th>\n",
       "      <td>1700</td>\n",
       "      <td>180</td>\n",
       "      <td>2.0</td>\n",
       "      <td>3</td>\n",
       "      <td>1.13</td>\n",
       "    </tr>\n",
       "    <tr>\n",
       "      <th>10</th>\n",
       "      <td>2100</td>\n",
       "      <td>180</td>\n",
       "      <td>2.0</td>\n",
       "      <td>3</td>\n",
       "      <td>1.22</td>\n",
       "    </tr>\n",
       "    <tr>\n",
       "      <th>11</th>\n",
       "      <td>500</td>\n",
       "      <td>120</td>\n",
       "      <td>1.5</td>\n",
       "      <td>6</td>\n",
       "      <td>0.89</td>\n",
       "    </tr>\n",
       "    <tr>\n",
       "      <th>12</th>\n",
       "      <td>900</td>\n",
       "      <td>120</td>\n",
       "      <td>1.5</td>\n",
       "      <td>6</td>\n",
       "      <td>0.93</td>\n",
       "    </tr>\n",
       "    <tr>\n",
       "      <th>13</th>\n",
       "      <td>1300</td>\n",
       "      <td>120</td>\n",
       "      <td>1.5</td>\n",
       "      <td>6</td>\n",
       "      <td>1.03</td>\n",
       "    </tr>\n",
       "    <tr>\n",
       "      <th>14</th>\n",
       "      <td>1700</td>\n",
       "      <td>120</td>\n",
       "      <td>1.5</td>\n",
       "      <td>6</td>\n",
       "      <td>1.13</td>\n",
       "    </tr>\n",
       "    <tr>\n",
       "      <th>15</th>\n",
       "      <td>2100</td>\n",
       "      <td>120</td>\n",
       "      <td>1.5</td>\n",
       "      <td>6</td>\n",
       "      <td>1.24</td>\n",
       "    </tr>\n",
       "    <tr>\n",
       "      <th>16</th>\n",
       "      <td>500</td>\n",
       "      <td>220</td>\n",
       "      <td>1.5</td>\n",
       "      <td>6</td>\n",
       "      <td>0.91</td>\n",
       "    </tr>\n",
       "    <tr>\n",
       "      <th>17</th>\n",
       "      <td>900</td>\n",
       "      <td>220</td>\n",
       "      <td>1.5</td>\n",
       "      <td>6</td>\n",
       "      <td>0.98</td>\n",
       "    </tr>\n",
       "    <tr>\n",
       "      <th>18</th>\n",
       "      <td>1300</td>\n",
       "      <td>220</td>\n",
       "      <td>1.5</td>\n",
       "      <td>6</td>\n",
       "      <td>1.09</td>\n",
       "    </tr>\n",
       "    <tr>\n",
       "      <th>19</th>\n",
       "      <td>1700</td>\n",
       "      <td>220</td>\n",
       "      <td>1.5</td>\n",
       "      <td>6</td>\n",
       "      <td>1.19</td>\n",
       "    </tr>\n",
       "    <tr>\n",
       "      <th>20</th>\n",
       "      <td>2100</td>\n",
       "      <td>220</td>\n",
       "      <td>1.5</td>\n",
       "      <td>6</td>\n",
       "      <td>1.30</td>\n",
       "    </tr>\n",
       "    <tr>\n",
       "      <th>21</th>\n",
       "      <td>500</td>\n",
       "      <td>200</td>\n",
       "      <td>1.0</td>\n",
       "      <td>3</td>\n",
       "      <td>0.89</td>\n",
       "    </tr>\n",
       "    <tr>\n",
       "      <th>22</th>\n",
       "      <td>900</td>\n",
       "      <td>200</td>\n",
       "      <td>1.0</td>\n",
       "      <td>3</td>\n",
       "      <td>0.93</td>\n",
       "    </tr>\n",
       "    <tr>\n",
       "      <th>23</th>\n",
       "      <td>1300</td>\n",
       "      <td>200</td>\n",
       "      <td>1.0</td>\n",
       "      <td>3</td>\n",
       "      <td>0.99</td>\n",
       "    </tr>\n",
       "    <tr>\n",
       "      <th>24</th>\n",
       "      <td>1700</td>\n",
       "      <td>200</td>\n",
       "      <td>1.0</td>\n",
       "      <td>3</td>\n",
       "      <td>1.09</td>\n",
       "    </tr>\n",
       "    <tr>\n",
       "      <th>25</th>\n",
       "      <td>2100</td>\n",
       "      <td>200</td>\n",
       "      <td>1.0</td>\n",
       "      <td>3</td>\n",
       "      <td>1.19</td>\n",
       "    </tr>\n",
       "    <tr>\n",
       "      <th>26</th>\n",
       "      <td>500</td>\n",
       "      <td>160</td>\n",
       "      <td>0.5</td>\n",
       "      <td>3</td>\n",
       "      <td>0.87</td>\n",
       "    </tr>\n",
       "    <tr>\n",
       "      <th>27</th>\n",
       "      <td>900</td>\n",
       "      <td>160</td>\n",
       "      <td>0.5</td>\n",
       "      <td>3</td>\n",
       "      <td>0.92</td>\n",
       "    </tr>\n",
       "    <tr>\n",
       "      <th>28</th>\n",
       "      <td>1300</td>\n",
       "      <td>160</td>\n",
       "      <td>0.5</td>\n",
       "      <td>3</td>\n",
       "      <td>0.98</td>\n",
       "    </tr>\n",
       "    <tr>\n",
       "      <th>29</th>\n",
       "      <td>1700</td>\n",
       "      <td>160</td>\n",
       "      <td>0.5</td>\n",
       "      <td>3</td>\n",
       "      <td>1.06</td>\n",
       "    </tr>\n",
       "    <tr>\n",
       "      <th>30</th>\n",
       "      <td>2100</td>\n",
       "      <td>160</td>\n",
       "      <td>0.5</td>\n",
       "      <td>3</td>\n",
       "      <td>1.15</td>\n",
       "    </tr>\n",
       "    <tr>\n",
       "      <th>31</th>\n",
       "      <td>500</td>\n",
       "      <td>240</td>\n",
       "      <td>0.5</td>\n",
       "      <td>9</td>\n",
       "      <td>0.89</td>\n",
       "    </tr>\n",
       "    <tr>\n",
       "      <th>32</th>\n",
       "      <td>900</td>\n",
       "      <td>240</td>\n",
       "      <td>0.5</td>\n",
       "      <td>9</td>\n",
       "      <td>0.93</td>\n",
       "    </tr>\n",
       "    <tr>\n",
       "      <th>33</th>\n",
       "      <td>1300</td>\n",
       "      <td>240</td>\n",
       "      <td>0.5</td>\n",
       "      <td>9</td>\n",
       "      <td>1.03</td>\n",
       "    </tr>\n",
       "    <tr>\n",
       "      <th>34</th>\n",
       "      <td>1700</td>\n",
       "      <td>240</td>\n",
       "      <td>0.5</td>\n",
       "      <td>9</td>\n",
       "      <td>1.12</td>\n",
       "    </tr>\n",
       "    <tr>\n",
       "      <th>35</th>\n",
       "      <td>2100</td>\n",
       "      <td>240</td>\n",
       "      <td>0.5</td>\n",
       "      <td>9</td>\n",
       "      <td>1.21</td>\n",
       "    </tr>\n",
       "  </tbody>\n",
       "</table>\n",
       "</div>"
      ],
      "text/plain": [
       "    n(r/min)  f(mm/r)  ap(mm)  MRR(mm3/s)  P(W)\n",
       "1        500      140     2.0           9  0.93\n",
       "2        900      140     2.0           9  1.00\n",
       "3       1300      140     2.0           9  1.10\n",
       "4       1700      140     2.0           9  1.19\n",
       "5       2100      140     2.0           9  1.29\n",
       "6        500      180     2.0           3  0.89\n",
       "7        900      180     2.0           3  0.92\n",
       "8       1300      180     2.0           3  1.03\n",
       "9       1700      180     2.0           3  1.13\n",
       "10      2100      180     2.0           3  1.22\n",
       "11       500      120     1.5           6  0.89\n",
       "12       900      120     1.5           6  0.93\n",
       "13      1300      120     1.5           6  1.03\n",
       "14      1700      120     1.5           6  1.13\n",
       "15      2100      120     1.5           6  1.24\n",
       "16       500      220     1.5           6  0.91\n",
       "17       900      220     1.5           6  0.98\n",
       "18      1300      220     1.5           6  1.09\n",
       "19      1700      220     1.5           6  1.19\n",
       "20      2100      220     1.5           6  1.30\n",
       "21       500      200     1.0           3  0.89\n",
       "22       900      200     1.0           3  0.93\n",
       "23      1300      200     1.0           3  0.99\n",
       "24      1700      200     1.0           3  1.09\n",
       "25      2100      200     1.0           3  1.19\n",
       "26       500      160     0.5           3  0.87\n",
       "27       900      160     0.5           3  0.92\n",
       "28      1300      160     0.5           3  0.98\n",
       "29      1700      160     0.5           3  1.06\n",
       "30      2100      160     0.5           3  1.15\n",
       "31       500      240     0.5           9  0.89\n",
       "32       900      240     0.5           9  0.93\n",
       "33      1300      240     0.5           9  1.03\n",
       "34      1700      240     0.5           9  1.12\n",
       "35      2100      240     0.5           9  1.21"
      ]
     },
     "execution_count": 242,
     "metadata": {},
     "output_type": "execute_result"
    }
   ],
   "source": [
    "#读取文件，换成data_1即可测试另一个数据集\n",
    "data = pd.read_csv(\n",
    "    './data_1.csv', header=0,names=['n(r/min)', 'f(mm/r)', 'ap(mm)', 'MRR(mm3/s)', 'P(W)'])\n",
    "data"
   ]
  },
  {
   "cell_type": "code",
   "execution_count": 243,
   "metadata": {},
   "outputs": [
    {
     "data": {
      "text/plain": [
       "<seaborn.axisgrid.PairGrid at 0x27b88734e50>"
      ]
     },
     "execution_count": 243,
     "metadata": {},
     "output_type": "execute_result"
    },
    {
     "data": {
      "image/png": "[encoded data removed]",
      "text/plain": [
       "<Figure size 1000x250 with 4 Axes>"
      ]
     },
     "metadata": {},
     "output_type": "display_data"
    }
   ],
   "source": [
    "#观察各个feature与P(W)的关系\n",
    "import seaborn as sns\n",
    "sns.pairplot(data, x_vars=['n(r/min)','f(mm/r)','ap(mm)','MRR(mm3/s)'], y_vars=['P(W)'])\n"
   ]
  },
  {
   "cell_type": "code",
   "execution_count": 244,
   "metadata": {},
   "outputs": [
    {
     "data": {
      "text/plain": [
       "1.4142135623730951"
      ]
     },
     "execution_count": 244,
     "metadata": {},
     "output_type": "execute_result"
    }
   ],
   "source": [
    "a = np.array([1,2,3,4,5])\n",
    "np.std(a)"
   ]
  },
  {
   "cell_type": "code",
   "execution_count": 245,
   "metadata": {},
   "outputs": [],
   "source": [
    "#搭建模型网络\n",
    "class Pw_Model(nn.Module):\n",
    "    def __init__(self, input_dim):\n",
    "        super(Pw_Model, self).__init__()\n",
    "        self.layers = nn.Sequential(\n",
    "            #层数变少效果变好了（数据太简单了）\n",
    "            nn.Linear(input_dim, 2048),\n",
    "            nn.ReLU(),\n",
    "            # nn.Linear(2048,256),\n",
    "            # nn.ReLU(),\n",
    "            nn.Linear(2048, 1)\n",
    "        )\n",
    "\n",
    "    def forward(self, x):\n",
    "        x = self.layers(x)\n",
    "        x = x.squeeze(1)  # (B, 1) -> (B)\n",
    "        return x\n",
    "    \n",
    "#数据加载转换tensor类\n",
    "class Pw_Dataset(Dataset):\n",
    "    '''\n",
    "    x: Features.\n",
    "    y: Targets, if none, do prediction.\n",
    "    '''\n",
    "    def __init__(self, x, y=None):\n",
    "        if y is None:\n",
    "            self.y = y\n",
    "        else:\n",
    "            self.y = torch.FloatTensor(y)\n",
    "        self.x = torch.FloatTensor(x)\n",
    "\n",
    "    def __getitem__(self, idx):\n",
    "        if self.y is None:\n",
    "            return self.x[idx]\n",
    "        else:\n",
    "            return self.x[idx], self.y[idx]\n",
    "\n",
    "    def __len__(self):\n",
    "        return len(self.x)\n"
   ]
  },
  {
   "cell_type": "code",
   "execution_count": 246,
   "metadata": {},
   "outputs": [],
   "source": [
    "#hyperparameters配置\n",
    "device = 'cuda' if torch.cuda.is_available() else 'cpu'\n",
    "config = {\n",
    "    'n_epochs': 1000,     # Number of epochs.\n",
    "    'batch_size': 256,\n",
    "    'learning_rate': 1e-4,\n",
    "}\n"
   ]
  },
  {
   "cell_type": "code",
   "execution_count": 247,
   "metadata": {},
   "outputs": [
    {
     "data": {
      "text/html": [
       "<div>\n",
       "<style scoped>\n",
       "    .dataframe tbody tr th:only-of-type {\n",
       "        vertical-align: middle;\n",
       "    }\n",
       "\n",
       "    .dataframe tbody tr th {\n",
       "        vertical-align: top;\n",
       "    }\n",
       "\n",
       "    .dataframe thead th {\n",
       "        text-align: right;\n",
       "    }\n",
       "</style>\n",
       "<table border=\"1\" class=\"dataframe\">\n",
       "  <thead>\n",
       "    <tr style=\"text-align: right;\">\n",
       "      <th></th>\n",
       "      <th>n(r/min)</th>\n",
       "      <th>f(mm/r)</th>\n",
       "      <th>ap(mm)</th>\n",
       "      <th>MRR(mm3/s)</th>\n",
       "      <th>P(W)</th>\n",
       "    </tr>\n",
       "  </thead>\n",
       "  <tbody>\n",
       "    <tr>\n",
       "      <th>1</th>\n",
       "      <td>-1.414214</td>\n",
       "      <td>-1.0</td>\n",
       "      <td>1.212678</td>\n",
       "      <td>1.371989</td>\n",
       "      <td>-0.919289</td>\n",
       "    </tr>\n",
       "    <tr>\n",
       "      <th>2</th>\n",
       "      <td>-0.707107</td>\n",
       "      <td>-1.0</td>\n",
       "      <td>1.212678</td>\n",
       "      <td>1.371989</td>\n",
       "      <td>-0.368615</td>\n",
       "    </tr>\n",
       "    <tr>\n",
       "      <th>3</th>\n",
       "      <td>0.000000</td>\n",
       "      <td>-1.0</td>\n",
       "      <td>1.212678</td>\n",
       "      <td>1.371989</td>\n",
       "      <td>0.418063</td>\n",
       "    </tr>\n",
       "    <tr>\n",
       "      <th>4</th>\n",
       "      <td>0.707107</td>\n",
       "      <td>-1.0</td>\n",
       "      <td>1.212678</td>\n",
       "      <td>1.371989</td>\n",
       "      <td>1.126073</td>\n",
       "    </tr>\n",
       "    <tr>\n",
       "      <th>5</th>\n",
       "      <td>1.414214</td>\n",
       "      <td>-1.0</td>\n",
       "      <td>1.212678</td>\n",
       "      <td>1.371989</td>\n",
       "      <td>1.912751</td>\n",
       "    </tr>\n",
       "    <tr>\n",
       "      <th>6</th>\n",
       "      <td>-1.414214</td>\n",
       "      <td>0.0</td>\n",
       "      <td>1.212678</td>\n",
       "      <td>-1.028992</td>\n",
       "      <td>-1.233960</td>\n",
       "    </tr>\n",
       "    <tr>\n",
       "      <th>7</th>\n",
       "      <td>-0.707107</td>\n",
       "      <td>0.0</td>\n",
       "      <td>1.212678</td>\n",
       "      <td>-1.028992</td>\n",
       "      <td>-0.997957</td>\n",
       "    </tr>\n",
       "    <tr>\n",
       "      <th>8</th>\n",
       "      <td>0.000000</td>\n",
       "      <td>0.0</td>\n",
       "      <td>1.212678</td>\n",
       "      <td>-1.028992</td>\n",
       "      <td>-0.132611</td>\n",
       "    </tr>\n",
       "    <tr>\n",
       "      <th>9</th>\n",
       "      <td>0.707107</td>\n",
       "      <td>0.0</td>\n",
       "      <td>1.212678</td>\n",
       "      <td>-1.028992</td>\n",
       "      <td>0.654066</td>\n",
       "    </tr>\n",
       "    <tr>\n",
       "      <th>10</th>\n",
       "      <td>1.414214</td>\n",
       "      <td>0.0</td>\n",
       "      <td>1.212678</td>\n",
       "      <td>-1.028992</td>\n",
       "      <td>1.362076</td>\n",
       "    </tr>\n",
       "    <tr>\n",
       "      <th>11</th>\n",
       "      <td>-1.414214</td>\n",
       "      <td>-1.5</td>\n",
       "      <td>0.363803</td>\n",
       "      <td>0.171499</td>\n",
       "      <td>-1.233960</td>\n",
       "    </tr>\n",
       "    <tr>\n",
       "      <th>12</th>\n",
       "      <td>-0.707107</td>\n",
       "      <td>-1.5</td>\n",
       "      <td>0.363803</td>\n",
       "      <td>0.171499</td>\n",
       "      <td>-0.919289</td>\n",
       "    </tr>\n",
       "    <tr>\n",
       "      <th>13</th>\n",
       "      <td>0.000000</td>\n",
       "      <td>-1.5</td>\n",
       "      <td>0.363803</td>\n",
       "      <td>0.171499</td>\n",
       "      <td>-0.132611</td>\n",
       "    </tr>\n",
       "    <tr>\n",
       "      <th>14</th>\n",
       "      <td>0.707107</td>\n",
       "      <td>-1.5</td>\n",
       "      <td>0.363803</td>\n",
       "      <td>0.171499</td>\n",
       "      <td>0.654066</td>\n",
       "    </tr>\n",
       "    <tr>\n",
       "      <th>15</th>\n",
       "      <td>1.414214</td>\n",
       "      <td>-1.5</td>\n",
       "      <td>0.363803</td>\n",
       "      <td>0.171499</td>\n",
       "      <td>1.519412</td>\n",
       "    </tr>\n",
       "    <tr>\n",
       "      <th>16</th>\n",
       "      <td>-1.414214</td>\n",
       "      <td>1.0</td>\n",
       "      <td>0.363803</td>\n",
       "      <td>0.171499</td>\n",
       "      <td>-1.076625</td>\n",
       "    </tr>\n",
       "    <tr>\n",
       "      <th>17</th>\n",
       "      <td>-0.707107</td>\n",
       "      <td>1.0</td>\n",
       "      <td>0.363803</td>\n",
       "      <td>0.171499</td>\n",
       "      <td>-0.525950</td>\n",
       "    </tr>\n",
       "    <tr>\n",
       "      <th>18</th>\n",
       "      <td>0.000000</td>\n",
       "      <td>1.0</td>\n",
       "      <td>0.363803</td>\n",
       "      <td>0.171499</td>\n",
       "      <td>0.339395</td>\n",
       "    </tr>\n",
       "    <tr>\n",
       "      <th>19</th>\n",
       "      <td>0.707107</td>\n",
       "      <td>1.0</td>\n",
       "      <td>0.363803</td>\n",
       "      <td>0.171499</td>\n",
       "      <td>1.126073</td>\n",
       "    </tr>\n",
       "    <tr>\n",
       "      <th>20</th>\n",
       "      <td>1.414214</td>\n",
       "      <td>1.0</td>\n",
       "      <td>0.363803</td>\n",
       "      <td>0.171499</td>\n",
       "      <td>1.991419</td>\n",
       "    </tr>\n",
       "    <tr>\n",
       "      <th>21</th>\n",
       "      <td>-1.414214</td>\n",
       "      <td>0.5</td>\n",
       "      <td>-0.485071</td>\n",
       "      <td>-1.028992</td>\n",
       "      <td>-1.233960</td>\n",
       "    </tr>\n",
       "    <tr>\n",
       "      <th>22</th>\n",
       "      <td>-0.707107</td>\n",
       "      <td>0.5</td>\n",
       "      <td>-0.485071</td>\n",
       "      <td>-1.028992</td>\n",
       "      <td>-0.919289</td>\n",
       "    </tr>\n",
       "    <tr>\n",
       "      <th>23</th>\n",
       "      <td>0.000000</td>\n",
       "      <td>0.5</td>\n",
       "      <td>-0.485071</td>\n",
       "      <td>-1.028992</td>\n",
       "      <td>-0.447282</td>\n",
       "    </tr>\n",
       "    <tr>\n",
       "      <th>24</th>\n",
       "      <td>0.707107</td>\n",
       "      <td>0.5</td>\n",
       "      <td>-0.485071</td>\n",
       "      <td>-1.028992</td>\n",
       "      <td>0.339395</td>\n",
       "    </tr>\n",
       "    <tr>\n",
       "      <th>25</th>\n",
       "      <td>1.414214</td>\n",
       "      <td>0.5</td>\n",
       "      <td>-0.485071</td>\n",
       "      <td>-1.028992</td>\n",
       "      <td>1.126073</td>\n",
       "    </tr>\n",
       "    <tr>\n",
       "      <th>26</th>\n",
       "      <td>-1.414214</td>\n",
       "      <td>-0.5</td>\n",
       "      <td>-1.333946</td>\n",
       "      <td>-1.028992</td>\n",
       "      <td>-1.391296</td>\n",
       "    </tr>\n",
       "    <tr>\n",
       "      <th>27</th>\n",
       "      <td>-0.707107</td>\n",
       "      <td>-0.5</td>\n",
       "      <td>-1.333946</td>\n",
       "      <td>-1.028992</td>\n",
       "      <td>-0.997957</td>\n",
       "    </tr>\n",
       "    <tr>\n",
       "      <th>28</th>\n",
       "      <td>0.000000</td>\n",
       "      <td>-0.5</td>\n",
       "      <td>-1.333946</td>\n",
       "      <td>-1.028992</td>\n",
       "      <td>-0.525950</td>\n",
       "    </tr>\n",
       "    <tr>\n",
       "      <th>29</th>\n",
       "      <td>0.707107</td>\n",
       "      <td>-0.5</td>\n",
       "      <td>-1.333946</td>\n",
       "      <td>-1.028992</td>\n",
       "      <td>0.103392</td>\n",
       "    </tr>\n",
       "    <tr>\n",
       "      <th>30</th>\n",
       "      <td>1.414214</td>\n",
       "      <td>-0.5</td>\n",
       "      <td>-1.333946</td>\n",
       "      <td>-1.028992</td>\n",
       "      <td>0.811402</td>\n",
       "    </tr>\n",
       "    <tr>\n",
       "      <th>31</th>\n",
       "      <td>-1.414214</td>\n",
       "      <td>1.5</td>\n",
       "      <td>-1.333946</td>\n",
       "      <td>1.371989</td>\n",
       "      <td>-1.233960</td>\n",
       "    </tr>\n",
       "    <tr>\n",
       "      <th>32</th>\n",
       "      <td>-0.707107</td>\n",
       "      <td>1.5</td>\n",
       "      <td>-1.333946</td>\n",
       "      <td>1.371989</td>\n",
       "      <td>-0.919289</td>\n",
       "    </tr>\n",
       "    <tr>\n",
       "      <th>33</th>\n",
       "      <td>0.000000</td>\n",
       "      <td>1.5</td>\n",
       "      <td>-1.333946</td>\n",
       "      <td>1.371989</td>\n",
       "      <td>-0.132611</td>\n",
       "    </tr>\n",
       "    <tr>\n",
       "      <th>34</th>\n",
       "      <td>0.707107</td>\n",
       "      <td>1.5</td>\n",
       "      <td>-1.333946</td>\n",
       "      <td>1.371989</td>\n",
       "      <td>0.575399</td>\n",
       "    </tr>\n",
       "    <tr>\n",
       "      <th>35</th>\n",
       "      <td>1.414214</td>\n",
       "      <td>1.5</td>\n",
       "      <td>-1.333946</td>\n",
       "      <td>1.371989</td>\n",
       "      <td>1.283409</td>\n",
       "    </tr>\n",
       "  </tbody>\n",
       "</table>\n",
       "</div>"
      ],
      "text/plain": [
       "    n(r/min)  f(mm/r)    ap(mm)  MRR(mm3/s)      P(W)\n",
       "1  -1.414214     -1.0  1.212678    1.371989 -0.919289\n",
       "2  -0.707107     -1.0  1.212678    1.371989 -0.368615\n",
       "3   0.000000     -1.0  1.212678    1.371989  0.418063\n",
       "4   0.707107     -1.0  1.212678    1.371989  1.126073\n",
       "5   1.414214     -1.0  1.212678    1.371989  1.912751\n",
       "6  -1.414214      0.0  1.212678   -1.028992 -1.233960\n",
       "7  -0.707107      0.0  1.212678   -1.028992 -0.997957\n",
       "8   0.000000      0.0  1.212678   -1.028992 -0.132611\n",
       "9   0.707107      0.0  1.212678   -1.028992  0.654066\n",
       "10  1.414214      0.0  1.212678   -1.028992  1.362076\n",
       "11 -1.414214     -1.5  0.363803    0.171499 -1.233960\n",
       "12 -0.707107     -1.5  0.363803    0.171499 -0.919289\n",
       "13  0.000000     -1.5  0.363803    0.171499 -0.132611\n",
       "14  0.707107     -1.5  0.363803    0.171499  0.654066\n",
       "15  1.414214     -1.5  0.363803    0.171499  1.519412\n",
       "16 -1.414214      1.0  0.363803    0.171499 -1.076625\n",
       "17 -0.707107      1.0  0.363803    0.171499 -0.525950\n",
       "18  0.000000      1.0  0.363803    0.171499  0.339395\n",
       "19  0.707107      1.0  0.363803    0.171499  1.126073\n",
       "20  1.414214      1.0  0.363803    0.171499  1.991419\n",
       "21 -1.414214      0.5 -0.485071   -1.028992 -1.233960\n",
       "22 -0.707107      0.5 -0.485071   -1.028992 -0.919289\n",
       "23  0.000000      0.5 -0.485071   -1.028992 -0.447282\n",
       "24  0.707107      0.5 -0.485071   -1.028992  0.339395\n",
       "25  1.414214      0.5 -0.485071   -1.028992  1.126073\n",
       "26 -1.414214     -0.5 -1.333946   -1.028992 -1.391296\n",
       "27 -0.707107     -0.5 -1.333946   -1.028992 -0.997957\n",
       "28  0.000000     -0.5 -1.333946   -1.028992 -0.525950\n",
       "29  0.707107     -0.5 -1.333946   -1.028992  0.103392\n",
       "30  1.414214     -0.5 -1.333946   -1.028992  0.811402\n",
       "31 -1.414214      1.5 -1.333946    1.371989 -1.233960\n",
       "32 -0.707107      1.5 -1.333946    1.371989 -0.919289\n",
       "33  0.000000      1.5 -1.333946    1.371989 -0.132611\n",
       "34  0.707107      1.5 -1.333946    1.371989  0.575399\n",
       "35  1.414214      1.5 -1.333946    1.371989  1.283409"
      ]
     },
     "execution_count": 247,
     "metadata": {},
     "output_type": "execute_result"
    }
   ],
   "source": [
    "#标准化操作示例\n",
    "data_normalized = data\n",
    "data_normalized.apply(lambda x: (x - np.mean(x)) / (np.std(x)))\n"
   ]
  },
  {
   "cell_type": "code",
   "execution_count": 248,
   "metadata": {},
   "outputs": [],
   "source": [
    "#初始化数据\n",
    "#打乱\n",
    "data = data.sample(frac=1.0)\n",
    "#标准化(理论上先划分再归一化，这里偷懒了，对于data_1不归一化效果也很好，因为已经做过量纲处理了)\n",
    "data_normalized = data.apply(lambda x: (x - np.mean(x)) / (np.std(x)))\n",
    "#划分训练集和验证集\n",
    "divide = int(data.shape[0]*0.85)\n",
    "train_data, test_data = data_normalized.iloc[:divide], data_normalized.iloc[divide:data.shape[0]]\n",
    "train_data, test_data = train_data.values,test_data.values\n",
    "\n",
    "train_y , test_y = train_data[:,-1],test_data[:,-1]\n",
    "train_x , test_x = train_data[:,:-1],test_data[:,:-1]\n",
    "\n",
    "train_dataset, test_dataset = Pw_Dataset(\n",
    "    train_x, train_y), Pw_Dataset(test_x, test_y)\n",
    "train_loader = DataLoader(\n",
    "    train_dataset, batch_size=config['batch_size'], shuffle=True, pin_memory=True)\n",
    "test_loader = DataLoader(\n",
    "    test_dataset, batch_size=config['batch_size'], shuffle=False, pin_memory=True)\n"
   ]
  },
  {
   "cell_type": "code",
   "execution_count": 249,
   "metadata": {},
   "outputs": [],
   "source": [
    "#优化函数，损失函数，数据迁移\n",
    "model = Pw_Model(input_dim=train_x.shape[1]).to(device)\n",
    "criterion = nn.MSELoss(reduction='mean')\n",
    "optimizer = torch.optim.Adam(\n",
    "    model.parameters(), lr=config['learning_rate'])\n",
    "\n"
   ]
  },
  {
   "cell_type": "code",
   "execution_count": 250,
   "metadata": {},
   "outputs": [],
   "source": [
    "#训练\n",
    "def trainer(train_loader, model, config, device):\n",
    "    n_epochs,step = config['n_epochs'],0\n",
    "    loss_record = []\n",
    "    for epoch in range(n_epochs):\n",
    "        model.train()  # Set your model to train mode.\n",
    "        # tqdm is a package to visualize your training progress.\n",
    "        train_pbar = tqdm(train_loader, leave=False)\n",
    "        for x, y in train_pbar:\n",
    "            optimizer.zero_grad()               # Set gradient to zero.\n",
    "            x, y = x.to(device), y.to(device)   # Move your data to device.\n",
    "            pred = model(x)\n",
    "            loss = criterion(pred, y)\n",
    "            # Compute gradient(backpropagation).\n",
    "            loss.backward()\n",
    "            optimizer.step()                    # Update parameters.\n",
    "            step += 1\n",
    "            loss_record.append(loss.detach().item())\n",
    "        mean_train_loss = sum(loss_record)/len(loss_record)\n",
    "        if(epoch+1)%50==0:\n",
    "            print(f'Epoch[{epoch+1}/{n_epochs}]: Train loss: {mean_train_loss: .8f}')\n",
    "    return loss_record\n"
   ]
  },
  {
   "cell_type": "code",
   "execution_count": 251,
   "metadata": {},
   "outputs": [],
   "source": [
    "#测试\n",
    "def test(test_loader,model,device):\n",
    "    model.eval()  # Set your model to evaluation mode.\n",
    "    loss_record = []\n",
    "    predict = []\n",
    "    for x, y in test_loader:\n",
    "        x, y = x.to(device), y.to(device)\n",
    "        with torch.no_grad():\n",
    "            pred = model(x)\n",
    "            predict.append(pred)\n",
    "            loss = criterion(pred, y)\n",
    "        loss_record.append(loss.item())\n",
    "    mean_test_loss = sum(loss_record)/len(loss_record)\n",
    "    print(\n",
    "        f'test loss: {mean_test_loss:.8f}')\n",
    "    return predict\n"
   ]
  },
  {
   "cell_type": "code",
   "execution_count": 252,
   "metadata": {},
   "outputs": [
    {
     "name": "stderr",
     "output_type": "stream",
     "text": [
      "                                     \r"
     ]
    },
    {
     "name": "stdout",
     "output_type": "stream",
     "text": [
      "Epoch[50/1000]: Train loss:  0.38501084\n"
     ]
    },
    {
     "name": "stderr",
     "output_type": "stream",
     "text": [
      "                                     \r"
     ]
    },
    {
     "name": "stdout",
     "output_type": "stream",
     "text": [
      "Epoch[100/1000]: Train loss:  0.19798491\n"
     ]
    },
    {
     "name": "stderr",
     "output_type": "stream",
     "text": [
      "                                     \r"
     ]
    },
    {
     "name": "stdout",
     "output_type": "stream",
     "text": [
      "Epoch[150/1000]: Train loss:  0.13425422\n"
     ]
    },
    {
     "name": "stderr",
     "output_type": "stream",
     "text": [
      "                                     \r"
     ]
    },
    {
     "name": "stdout",
     "output_type": "stream",
     "text": [
      "Epoch[200/1000]: Train loss:  0.10202507\n"
     ]
    },
    {
     "name": "stderr",
     "output_type": "stream",
     "text": [
      "                                     \r"
     ]
    },
    {
     "name": "stdout",
     "output_type": "stream",
     "text": [
      "Epoch[250/1000]: Train loss:  0.08251364\n"
     ]
    },
    {
     "name": "stderr",
     "output_type": "stream",
     "text": [
      "                                     \r"
     ]
    },
    {
     "name": "stdout",
     "output_type": "stream",
     "text": [
      "Epoch[300/1000]: Train loss:  0.06939851\n"
     ]
    },
    {
     "name": "stderr",
     "output_type": "stream",
     "text": [
      "                                     \r"
     ]
    },
    {
     "name": "stdout",
     "output_type": "stream",
     "text": [
      "Epoch[350/1000]: Train loss:  0.05995693\n"
     ]
    },
    {
     "name": "stderr",
     "output_type": "stream",
     "text": [
      "                                     \r"
     ]
    },
    {
     "name": "stdout",
     "output_type": "stream",
     "text": [
      "Epoch[400/1000]: Train loss:  0.05282273\n"
     ]
    },
    {
     "name": "stderr",
     "output_type": "stream",
     "text": [
      "                                     \r"
     ]
    },
    {
     "name": "stdout",
     "output_type": "stream",
     "text": [
      "Epoch[450/1000]: Train loss:  0.04723415\n"
     ]
    },
    {
     "name": "stderr",
     "output_type": "stream",
     "text": [
      "                                     \r"
     ]
    },
    {
     "name": "stdout",
     "output_type": "stream",
     "text": [
      "Epoch[500/1000]: Train loss:  0.04273279\n"
     ]
    },
    {
     "name": "stderr",
     "output_type": "stream",
     "text": [
      "                                     \r"
     ]
    },
    {
     "name": "stdout",
     "output_type": "stream",
     "text": [
      "Epoch[550/1000]: Train loss:  0.03902584\n"
     ]
    },
    {
     "name": "stderr",
     "output_type": "stream",
     "text": [
      "                                     \r"
     ]
    },
    {
     "name": "stdout",
     "output_type": "stream",
     "text": [
      "Epoch[600/1000]: Train loss:  0.03591741\n"
     ]
    },
    {
     "name": "stderr",
     "output_type": "stream",
     "text": [
      "                                     \r"
     ]
    },
    {
     "name": "stdout",
     "output_type": "stream",
     "text": [
      "Epoch[650/1000]: Train loss:  0.03327134\n"
     ]
    },
    {
     "name": "stderr",
     "output_type": "stream",
     "text": [
      "                                     \r"
     ]
    },
    {
     "name": "stdout",
     "output_type": "stream",
     "text": [
      "Epoch[700/1000]: Train loss:  0.03099027\n"
     ]
    },
    {
     "name": "stderr",
     "output_type": "stream",
     "text": [
      "                                     \r"
     ]
    },
    {
     "name": "stdout",
     "output_type": "stream",
     "text": [
      "Epoch[750/1000]: Train loss:  0.02900261\n"
     ]
    },
    {
     "name": "stderr",
     "output_type": "stream",
     "text": [
      "                                     \r"
     ]
    },
    {
     "name": "stdout",
     "output_type": "stream",
     "text": [
      "Epoch[800/1000]: Train loss:  0.02725449\n"
     ]
    },
    {
     "name": "stderr",
     "output_type": "stream",
     "text": [
      "                                     \r"
     ]
    },
    {
     "name": "stdout",
     "output_type": "stream",
     "text": [
      "Epoch[850/1000]: Train loss:  0.02570454\n"
     ]
    },
    {
     "name": "stderr",
     "output_type": "stream",
     "text": [
      "                                     \r"
     ]
    },
    {
     "name": "stdout",
     "output_type": "stream",
     "text": [
      "Epoch[900/1000]: Train loss:  0.02432049\n"
     ]
    },
    {
     "name": "stderr",
     "output_type": "stream",
     "text": [
      "                                     \r"
     ]
    },
    {
     "name": "stdout",
     "output_type": "stream",
     "text": [
      "Epoch[950/1000]: Train loss:  0.02307682\n"
     ]
    },
    {
     "name": "stderr",
     "output_type": "stream",
     "text": [
      "                                     \r"
     ]
    },
    {
     "name": "stdout",
     "output_type": "stream",
     "text": [
      "Epoch[1000/1000]: Train loss:  0.02195307\n"
     ]
    },
    {
     "data": {
      "image/png": "[encoded data removed]",
      "text/plain": [
       "<Figure size 640x480 with 1 Axes>"
      ]
     },
     "metadata": {},
     "output_type": "display_data"
    }
   ],
   "source": [
    "y_train_loss = trainer(train_loader, model, config, device)      # loss值，即y轴\n",
    "x_train_loss = range(len(y_train_loss))\t\t\t # loss的数量，即x轴\n",
    "plt.figure()\n",
    "\n",
    "# 去除顶部和右边框框\n",
    "ax = plt.axes()\n",
    "ax.spines['top'].set_visible(False)\n",
    "ax.spines['right'].set_visible(False)\n",
    "\n",
    "plt.xlabel('iters')    # x轴标签\n",
    "plt.ylabel('loss')     # y轴标签\n",
    "\n",
    "# 以x_train_loss为横坐标，y_train_loss为纵坐标，曲线宽度为1，实线，增加标签，训练损失，\n",
    "plt.plot(x_train_loss, y_train_loss, linewidth=1, linestyle=\"solid\", label=\"train loss\")\n",
    "plt.legend()\n",
    "plt.title('Loss curve')\n",
    "plt.show()\n"
   ]
  },
  {
   "cell_type": "code",
   "execution_count": 253,
   "metadata": {},
   "outputs": [
    {
     "name": "stdout",
     "output_type": "stream",
     "text": [
      "test loss: 0.00776521\n"
     ]
    }
   ],
   "source": [
    "\n",
    "predict = test(test_loader,model,device)"
   ]
  },
  {
   "cell_type": "code",
   "execution_count": 277,
   "metadata": {},
   "outputs": [
    {
     "data": {
      "image/png": "[encoded data removed]",
      "text/plain": [
       "<Figure size 640x480 with 1 Axes>"
      ]
     },
     "metadata": {},
     "output_type": "display_data"
    },
    {
     "name": "stdout",
     "output_type": "stream",
     "text": [
      "0.9883006430755764\n"
     ]
    }
   ],
   "source": [
    "from sklearn.metrics import r2_score\n",
    "real= np.array(test_y)\n",
    "compute = predict[0].cuda().cpu().numpy()\n",
    "#测试数据散点图\n",
    "plt.scatter(real, compute, color='red', label=\"test data\")\n",
    "#添加图标标签\n",
    "plt.legend(loc=2)\n",
    "plt.xlabel(\"Hours\")\n",
    "plt.ylabel(\"Score\")\n",
    "#显示图像\n",
    "plt.show()\n",
    "#计算拟合优度\n",
    "score = r2_score(real, compute)\n",
    "print(score)\n"
   ]
  }
 ],
 "metadata": {
  "kernelspec": {
   "display_name": "Python 3",
   "language": "python",
   "name": "python3"
  },
  "language_info": {
   "codemirror_mode": {
    "name": "ipython",
    "version": 3
   },
   "file_extension": ".py",
   "mimetype": "text/x-python",
   "name": "python",
   "nbconvert_exporter": "python",
   "pygments_lexer": "ipython3",
   "version": "3.10.8"
  },
  "orig_nbformat": 4
 },
 "nbformat": 4,
 "nbformat_minor": 2
}
